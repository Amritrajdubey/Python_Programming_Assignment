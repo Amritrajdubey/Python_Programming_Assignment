{
 "cells": [
  {
   "cell_type": "code",
   "execution_count": null,
   "id": "e411b02d",
   "metadata": {},
   "outputs": [],
   "source": [
    "1. Write a Python Program to Add Two Matrices?"
   ]
  },
  {
   "cell_type": "code",
   "execution_count": 10,
   "id": "966352ce",
   "metadata": {},
   "outputs": [
    {
     "name": "stdout",
     "output_type": "stream",
     "text": [
      "[[12], [5], [11]]\n"
     ]
    }
   ],
   "source": [
    "X = [[2],[3],[6]]\n",
    "Y = [[10],[2],[5]]\n",
    "z=[[0],[0],[0]]\n",
    "for i in range(len(X)):\n",
    "    for j in range(len(Y[0])):\n",
    "        z[i][j]=X[i][j]+Y[i][j]\n",
    "print(z)"
   ]
  },
  {
   "cell_type": "code",
   "execution_count": null,
   "id": "d4c57fcf",
   "metadata": {},
   "outputs": [],
   "source": [
    "2. Write a Python Program to Multiply Two Matrices?"
   ]
  },
  {
   "cell_type": "code",
   "execution_count": 11,
   "id": "8f659d46",
   "metadata": {},
   "outputs": [
    {
     "name": "stdout",
     "output_type": "stream",
     "text": [
      "[[20], [6], [30]]\n"
     ]
    }
   ],
   "source": [
    "X = [[2],[3],[6]]\n",
    "Y = [[10],[2],[5]]\n",
    "z=[[0],[0],[0]]\n",
    "for i in range(len(X)):\n",
    "    for j in range(len(Y[0])):\n",
    "        z[i][j]=X[i][j]*Y[i][j]\n",
    "print(z)"
   ]
  },
  {
   "cell_type": "code",
   "execution_count": null,
   "id": "457463a9",
   "metadata": {},
   "outputs": [],
   "source": [
    "3. Write a Python Program to Transpose a Matrix?"
   ]
  },
  {
   "cell_type": "code",
   "execution_count": 17,
   "id": "0aeebc89",
   "metadata": {},
   "outputs": [
    {
     "name": "stdout",
     "output_type": "stream",
     "text": [
      "[1, 3, 5]\n",
      "[2, 4, 6]\n"
     ]
    }
   ],
   "source": [
    "X = [[1 ,2],\n",
    "    [3 ,4],\n",
    "    [5 ,6]]\n",
    "result = [[0,0,0],\n",
    "         [0,0,0]]\n",
    "for i in range(len(X)):\n",
    "    for j in range(len(X[0])):\n",
    "        result[j][i] = X[i][j]\n",
    "\n",
    "for z in result:\n",
    "    print(z)"
   ]
  },
  {
   "cell_type": "code",
   "execution_count": null,
   "id": "03d37659",
   "metadata": {},
   "outputs": [],
   "source": [
    "4. Write a Python Program to Sort Words in Alphabetic Order?"
   ]
  },
  {
   "cell_type": "code",
   "execution_count": 4,
   "id": "1e9ccf5f",
   "metadata": {},
   "outputs": [],
   "source": [
    "def sort_alpha(x):\n",
    "    a = x.split(' ')\n",
    "    for i in range(len(a)):\n",
    "        a[i] = a[i].lower()\n",
    "    sort = sorted(a)\n",
    "    print(' '.join(sort))"
   ]
  },
  {
   "cell_type": "code",
   "execution_count": 5,
   "id": "95da71be",
   "metadata": {},
   "outputs": [
    {
     "name": "stdout",
     "output_type": "stream",
     "text": [
      "alpha in is order program sort str the this to\n"
     ]
    }
   ],
   "source": [
    "sort_alpha('This program is to sort the str in alpha order')"
   ]
  },
  {
   "cell_type": "code",
   "execution_count": null,
   "id": "ce5def1a",
   "metadata": {},
   "outputs": [],
   "source": [
    "5. Write a Python Program to Remove Punctuation From a String?"
   ]
  },
  {
   "cell_type": "code",
   "execution_count": null,
   "id": "0bda2379",
   "metadata": {},
   "outputs": [],
   "source": []
  }
 ],
 "metadata": {
  "kernelspec": {
   "display_name": "Python 3 (ipykernel)",
   "language": "python",
   "name": "python3"
  },
  "language_info": {
   "codemirror_mode": {
    "name": "ipython",
    "version": 3
   },
   "file_extension": ".py",
   "mimetype": "text/x-python",
   "name": "python",
   "nbconvert_exporter": "python",
   "pygments_lexer": "ipython3",
   "version": "3.9.7"
  }
 },
 "nbformat": 4,
 "nbformat_minor": 5
}
