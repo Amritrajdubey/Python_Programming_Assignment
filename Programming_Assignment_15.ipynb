{
 "cells": [
  {
   "cell_type": "markdown",
   "id": "9e984b77",
   "metadata": {},
   "source": [
    "Question 1:\n",
    "\n",
    "Please write a program using generator to print the numbers which can be divisible by 5 and\n",
    "7 between 0 and n in comma separated form while n is input by console.\n",
    "Example:\n",
    "If the following n is given as input to the program:\n",
    "100\n",
    "Then, the output of the program should be:\n",
    "0,35,70"
   ]
  },
  {
   "cell_type": "code",
   "execution_count": 1,
   "id": "49f1c119",
   "metadata": {},
   "outputs": [],
   "source": [
    "def div_5_7(n):\n",
    "    for i in range(n):\n",
    "        if i%5 == 0 and i%7 == 0:\n",
    "            yield i"
   ]
  },
  {
   "cell_type": "code",
   "execution_count": 4,
   "id": "6e24db2c",
   "metadata": {},
   "outputs": [
    {
     "name": "stdout",
     "output_type": "stream",
     "text": [
      "[0, 35, 70]\n"
     ]
    }
   ],
   "source": [
    "l =[]\n",
    "for i in div_5_7(100):\n",
    "    l.append(i)\n",
    "print(l)"
   ]
  },
  {
   "cell_type": "markdown",
   "id": "c866c0dd",
   "metadata": {},
   "source": [
    "Question 2:\n",
    "\n",
    "Please write a program using generator to print the even numbers between 0 and n in comma\n",
    "separated form while n is input by console.\n",
    "Example:\n",
    "If the following n is given as input to the program:\n",
    "10\n",
    "Then, the output of the program should be:\n",
    "0,2,4,6,8,10"
   ]
  },
  {
   "cell_type": "code",
   "execution_count": 12,
   "id": "e35a535c",
   "metadata": {},
   "outputs": [],
   "source": [
    "def even_no(n):\n",
    "    l=[]\n",
    "    for i in range(n):\n",
    "        if i%2 == 0:\n",
    "            l.append(i)\n",
    "    yield l"
   ]
  },
  {
   "cell_type": "code",
   "execution_count": 13,
   "id": "c0b545af",
   "metadata": {},
   "outputs": [
    {
     "name": "stdout",
     "output_type": "stream",
     "text": [
      "[0, 2, 4, 6, 8]\n"
     ]
    }
   ],
   "source": [
    "for i in even_no(10):\n",
    "    print(i)"
   ]
  },
  {
   "cell_type": "markdown",
   "id": "aaa83e4c",
   "metadata": {},
   "source": [
    "Question 3:\n",
    "\n",
    "The Fibonacci Sequence is computed based on the following formula:\n",
    "f(n)=0 if n=0\n",
    "f(n)=1 if n=1\n",
    "f(n)=f(n-1)+f(n-2) if n>1\n",
    "Please write a program using list comprehension to print the Fibonacci Sequence in comma\n",
    "separated form with a given n input by console.\n",
    "Example:\n",
    "If the following n is given as input to the program:\n",
    "7\n",
    "\n",
    "Then, the output of the program should be:\n",
    "0,1,1,2,3,5,8,13"
   ]
  },
  {
   "cell_type": "code",
   "execution_count": null,
   "id": "87b3d69d",
   "metadata": {},
   "outputs": [],
   "source": []
  },
  {
   "cell_type": "markdown",
   "id": "daac74b4",
   "metadata": {},
   "source": [
    "Question 4:\n",
    "\n",
    "Assuming that we have some email addresses in the 'username@companyname.com' format,\n",
    "please write program to print the user name of a given email address. Both user names and\n",
    "company names are composed of letters only.\n",
    "Example:\n",
    "If the following email address is given as input to the program:\n",
    "john@google.com\n",
    "Then, the output of the program should be:\n",
    "john"
   ]
  },
  {
   "cell_type": "code",
   "execution_count": 8,
   "id": "7a16df1a",
   "metadata": {},
   "outputs": [],
   "source": [
    "def sort_user(mail):\n",
    "    for i in range(len(mail)):\n",
    "        if mail[i] == '@':\n",
    "            print(mail[:i])"
   ]
  },
  {
   "cell_type": "code",
   "execution_count": 10,
   "id": "fdbf8057",
   "metadata": {},
   "outputs": [
    {
     "name": "stdout",
     "output_type": "stream",
     "text": [
      "amritraj\n"
     ]
    }
   ],
   "source": [
    "sort_user('amritraj@xyz.com')"
   ]
  },
  {
   "cell_type": "markdown",
   "id": "fd609b91",
   "metadata": {},
   "source": [
    "Question 5:\n",
    "\n",
    "Define a class named Shape and its subclass Square. The Square class has an init function\n",
    "which takes a length as argument. Both classes have a area function which can print the area\n",
    "of the shape where Shape's area is 0 by default."
   ]
  },
  {
   "cell_type": "code",
   "execution_count": 11,
   "id": "ed52d27a",
   "metadata": {},
   "outputs": [],
   "source": [
    "class Shape:\n",
    "    def area(self):\n",
    "        return 0\n",
    "    \n",
    "class Square(Shape):\n",
    "    def __init__(self,length):\n",
    "        self.length = length\n",
    "        \n",
    "    def area(self):\n",
    "        return self.length * self.length"
   ]
  },
  {
   "cell_type": "code",
   "execution_count": 16,
   "id": "24e6279b",
   "metadata": {},
   "outputs": [
    {
     "name": "stdout",
     "output_type": "stream",
     "text": [
      "0\n",
      "100\n"
     ]
    }
   ],
   "source": [
    "Rec = Shape()\n",
    "print(Rec.area())\n",
    "\n",
    "SQ = Square(10)\n",
    "print(SQ.area())"
   ]
  },
  {
   "cell_type": "code",
   "execution_count": null,
   "id": "33cae29c",
   "metadata": {},
   "outputs": [],
   "source": []
  },
  {
   "cell_type": "code",
   "execution_count": null,
   "id": "fee96ed6",
   "metadata": {},
   "outputs": [],
   "source": []
  }
 ],
 "metadata": {
  "kernelspec": {
   "display_name": "Python 3 (ipykernel)",
   "language": "python",
   "name": "python3"
  },
  "language_info": {
   "codemirror_mode": {
    "name": "ipython",
    "version": 3
   },
   "file_extension": ".py",
   "mimetype": "text/x-python",
   "name": "python",
   "nbconvert_exporter": "python",
   "pygments_lexer": "ipython3",
   "version": "3.9.13"
  }
 },
 "nbformat": 4,
 "nbformat_minor": 5
}
