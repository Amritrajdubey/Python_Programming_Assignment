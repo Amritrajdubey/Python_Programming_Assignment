{
 "cells": [
  {
   "cell_type": "markdown",
   "id": "7ca6f06f",
   "metadata": {},
   "source": [
    "Question 1\n",
    "Create a function that takes a list of non-negative integers and strings and return a new list without the strings.\n",
    "Examples\n",
    "filter_list([1, 2, 'a', 'b']) ➞ [1, 2]\n",
    "filter_list([1,'a', 'b', 0, 15]) ➞ [1, 0, 15]\n",
    "filter_list([1, 2,'aasf','1','123', 123]) ➞ [1, 2, 123]"
   ]
  },
  {
   "cell_type": "code",
   "execution_count": 6,
   "id": "57d01743",
   "metadata": {},
   "outputs": [],
   "source": [
    "def filter_list(l):\n",
    "    l1=[]\n",
    "    for i in l:            \n",
    "        if type(i)==int and i>0:\n",
    "            l1.append(i)\n",
    "        elif type(i)==str:\n",
    "            continue\n",
    "    print(l1)"
   ]
  },
  {
   "cell_type": "code",
   "execution_count": 48,
   "id": "91b43b85",
   "metadata": {},
   "outputs": [
    {
     "name": "stdout",
     "output_type": "stream",
     "text": [
      "[1, 2, 123]\n"
     ]
    }
   ],
   "source": [
    "filter_list([1, 2,'aasf','1','123', 123])"
   ]
  },
  {
   "cell_type": "markdown",
   "id": "7a712698",
   "metadata": {},
   "source": [
    "Question 2\n",
    "The 'Reverser' takes a string as input and returns that string in reverse order, with the opposite case.\n",
    "Examples\n",
    "reverse('Hello World') ➞ 'DLROw OLLEh'\n",
    "reverse('ReVeRsE') ➞ 'eSrEvEr'\n",
    "reverse('Radar') ➞ 'RADAr'"
   ]
  },
  {
   "cell_type": "code",
   "execution_count": 39,
   "id": "38283467",
   "metadata": {},
   "outputs": [],
   "source": [
    "def reverse(char):\n",
    "    char1 = char[::-1]\n",
    "    new =''\n",
    "    for i in char1:\n",
    "        if i.islower():\n",
    "            new += i.upper()\n",
    "        elif i.isupper():\n",
    "            new += i.lower()\n",
    "        else:\n",
    "            new += i\n",
    "    return new"
   ]
  },
  {
   "cell_type": "code",
   "execution_count": 40,
   "id": "c74bf7ae",
   "metadata": {},
   "outputs": [
    {
     "data": {
      "text/plain": [
       "'DLROw OLLEh'"
      ]
     },
     "execution_count": 40,
     "metadata": {},
     "output_type": "execute_result"
    }
   ],
   "source": [
    "reverse('Hello World')"
   ]
  },
  {
   "cell_type": "markdown",
   "id": "d86f5a2f",
   "metadata": {},
   "source": [
    "Question 3\n",
    "You can assign variables from lists like this:\n",
    "lst = [1, 2, 3, 4, 5, 6]\n",
    "first = lst[0]\n",
    "middle = lst[1:-1]\n",
    "last = lst[-1]\n",
    "print(first) ➞ outputs 1\n",
    "print(middle) ➞ outputs [2, 3, 4, 5]\n",
    "print(last) ➞ outputs 6\n",
    "With Python 3, you can assign variables from lists in a much more succinct way. Create variables first, middle and last from the given list using destructuring assignment\n",
    "(check the Resources tab for some examples), where:\n",
    "first ➞ 1\n",
    "middle ➞ [2, 3, 4, 5]\n",
    "last ➞ 6\n",
    "\n",
    "Your task is to unpack the list writeyourcodehere into three variables, being first,\n",
    "middle, and last, with middle being everything in between the first and last element. Then\n",
    "print all three variables."
   ]
  },
  {
   "cell_type": "code",
   "execution_count": 46,
   "id": "af724876",
   "metadata": {},
   "outputs": [],
   "source": [
    "def seprate_lst(lst):\n",
    "    first,middle,last=lst[1],lst[1:-1],lst[-1]\n",
    "    print(f'First :{first} Middle:{middle} Last:{last}')"
   ]
  },
  {
   "cell_type": "code",
   "execution_count": 47,
   "id": "4bdd6d55",
   "metadata": {},
   "outputs": [
    {
     "name": "stdout",
     "output_type": "stream",
     "text": [
      "First :2 Middle:[2, 3, 4, 5] Last:6\n"
     ]
    }
   ],
   "source": [
    "seprate_lst([1,2,3,4,5,6])"
   ]
  },
  {
   "cell_type": "markdown",
   "id": "aa7ba12a",
   "metadata": {},
   "source": [
    "Question 4\n",
    "Write a function that calculates the factorial of a number recursively.\n",
    "Examples\n",
    "factorial(5) ➞ 120\n",
    "factorial(3) ➞ 6\n",
    "factorial(1) ➞ 1\n",
    "factorial(0) ➞ 1"
   ]
  },
  {
   "cell_type": "code",
   "execution_count": 1,
   "id": "f6b2d80b",
   "metadata": {},
   "outputs": [],
   "source": [
    "def factorial(n):\n",
    "    fact =1\n",
    "    for i in range(1,n+1):\n",
    "        fact *= i\n",
    "    print(fact)"
   ]
  },
  {
   "cell_type": "code",
   "execution_count": 2,
   "id": "12c31541",
   "metadata": {},
   "outputs": [
    {
     "name": "stdout",
     "output_type": "stream",
     "text": [
      "120\n"
     ]
    }
   ],
   "source": [
    "factorial(5)"
   ]
  },
  {
   "cell_type": "markdown",
   "id": "cc28e299",
   "metadata": {},
   "source": [
    "Question 5\n",
    "Write a function that moves all elements of one type to the end of the list.\n",
    "Examples\n",
    "move_to_end([1, 3, 2, 4, 4, 1], 1) ➞ [3, 2, 4, 4, 1, 1]\n",
    "Move all the 1s to the end of the array.\n",
    "move_to_end([7, 8, 9, 1, 2, 3, 4], 9) ➞ [7, 8, 1, 2, 3, 4, 9]\n",
    "move_to_end(['a', 'a','a','b'],'a') ➞ ['b','a','a','a']"
   ]
  },
  {
   "cell_type": "code",
   "execution_count": 51,
   "id": "cc314926",
   "metadata": {},
   "outputs": [],
   "source": [
    "def move_to_end(char, elem):\n",
    "    count = char.count(elem)\n",
    "    char = [x for x in char if x != elem]\n",
    "    char += [elem] * count\n",
    "    return char\n"
   ]
  },
  {
   "cell_type": "code",
   "execution_count": 52,
   "id": "5e973e2e",
   "metadata": {},
   "outputs": [
    {
     "data": {
      "text/plain": [
       "[3, 2, 4, 4, 1, 1]"
      ]
     },
     "execution_count": 52,
     "metadata": {},
     "output_type": "execute_result"
    }
   ],
   "source": [
    "move_to_end([1, 3, 2, 4, 4, 1], 1)"
   ]
  },
  {
   "cell_type": "code",
   "execution_count": null,
   "id": "af0e5b3a",
   "metadata": {},
   "outputs": [],
   "source": []
  }
 ],
 "metadata": {
  "kernelspec": {
   "display_name": "Python 3 (ipykernel)",
   "language": "python",
   "name": "python3"
  },
  "language_info": {
   "codemirror_mode": {
    "name": "ipython",
    "version": 3
   },
   "file_extension": ".py",
   "mimetype": "text/x-python",
   "name": "python",
   "nbconvert_exporter": "python",
   "pygments_lexer": "ipython3",
   "version": "3.9.13"
  }
 },
 "nbformat": 4,
 "nbformat_minor": 5
}
