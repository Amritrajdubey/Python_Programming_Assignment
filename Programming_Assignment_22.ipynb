{
 "cells": [
  {
   "cell_type": "markdown",
   "id": "3a1ad271",
   "metadata": {},
   "source": [
    "Question1\n",
    "Create a function that takes three parameters where:\n",
    " x is the start of the range (inclusive).\n",
    " y is the end of the range (inclusive).\n",
    " n is the divisor to be checked against.\n",
    "Return an ordered list with numbers in the range that are divisible by the third parameter n.\n",
    "Return an empty list if there are no numbers that are divisible by n.\n",
    "Examples\n",
    "list_operation(1, 10, 3) ➞ [3, 6, 9]\n",
    "list_operation(7, 9, 2) ➞ [8]\n",
    "list_operation(15, 20, 7) ➞ []"
   ]
  },
  {
   "cell_type": "code",
   "execution_count": 8,
   "id": "4ecae93b",
   "metadata": {},
   "outputs": [],
   "source": [
    "def list_operation(x,y,n):\n",
    "    l=[]\n",
    "    for i in range(x,y):\n",
    "        if i%n == 0:\n",
    "            l.append(i)\n",
    "    print(l)"
   ]
  },
  {
   "cell_type": "code",
   "execution_count": 11,
   "id": "ea3f610d",
   "metadata": {},
   "outputs": [
    {
     "name": "stdout",
     "output_type": "stream",
     "text": [
      "[3, 6, 9]\n"
     ]
    }
   ],
   "source": [
    "list_operation(1, 10, 3)"
   ]
  },
  {
   "cell_type": "markdown",
   "id": "f4b1d875",
   "metadata": {},
   "source": [
    "Question2\n",
    "Create a function that takes in two lists and returns True if the second list follows the first list\n",
    "by one element, and False otherwise. In other words, determine if the second list is the first\n",
    "list shifted to the right by 1.\n",
    "Examples\n",
    "simon_says([1, 2], [5, 1]) ➞ True\n",
    "simon_says([1, 2], [5, 5]) ➞ False\n",
    "simon_says([1, 2, 3, 4, 5], [0, 1, 2, 3, 4]) ➞ True\n",
    "simon_says([1, 2, 3, 4, 5], [5, 5, 1, 2, 3]) ➞ False\n",
    "Notes\n",
    " Both input lists will be of the same length, and will have a minimum length of 2.\n",
    " The values of the 0-indexed element in the second list and the n-1th indexed element\n",
    "in the first list do not matter."
   ]
  },
  {
   "cell_type": "code",
   "execution_count": 37,
   "id": "e4ef0f10",
   "metadata": {},
   "outputs": [],
   "source": [
    "def simon_says(list1,list2):\n",
    "    return list1[:-1] == list2[1:]"
   ]
  },
  {
   "cell_type": "code",
   "execution_count": 40,
   "id": "7f0dc829",
   "metadata": {},
   "outputs": [
    {
     "data": {
      "text/plain": [
       "True"
      ]
     },
     "execution_count": 40,
     "metadata": {},
     "output_type": "execute_result"
    }
   ],
   "source": [
    "simon_says([1, 2, 3, 4, 5], [0, 1, 2, 3, 4])"
   ]
  },
  {
   "cell_type": "markdown",
   "id": "889c0d4f",
   "metadata": {},
   "source": [
    "Question3\n",
    "A group of friends have decided to start a secret society. The name will be the first letter of\n",
    "each of their names, sorted in alphabetical order.\n",
    "Create a function that takes in a list of names and returns the name of the secret society.\n",
    "\n",
    "Examples\n",
    "society_name(['Adam', 'Sarah', 'Malcolm']) ➞ 'AMS'\n",
    "society_name(['Harry', 'Newt', 'Luna', 'Cho']) ➞ 'CHLN'\n",
    "society_name(['Phoebe', 'Chandler', 'Rachel', 'Ross', 'Monica', 'Joey'])"
   ]
  },
  {
   "cell_type": "code",
   "execution_count": 34,
   "id": "af43532d",
   "metadata": {},
   "outputs": [],
   "source": [
    "def society_name(names):\n",
    "    first_ltr = [i[0] for i in names]\n",
    "    sorted_ltr = ''.join(sorted(first_ltr))\n",
    "    return sorted_ltr"
   ]
  },
  {
   "cell_type": "code",
   "execution_count": 35,
   "id": "b03e0d57",
   "metadata": {},
   "outputs": [
    {
     "data": {
      "text/plain": [
       "'AMS'"
      ]
     },
     "execution_count": 35,
     "metadata": {},
     "output_type": "execute_result"
    }
   ],
   "source": [
    "society_name(['Adam', 'Sarah', 'Malcolm'])"
   ]
  },
  {
   "cell_type": "markdown",
   "id": "b1a823ba",
   "metadata": {},
   "source": [
    "Question4\n",
    "An isogram is a word that has no duplicate letters. Create a function that takes a string and\n",
    "returns either True or False depending on whether or not it's an 'isogram'.\n",
    "Examples\n",
    "is_isogram('Algorism') ➞ True\n",
    "is_isogram('PasSword') ➞ False\n",
    " Not case sensitive.\n",
    "is_isogram('Consecutive') ➞ False\n",
    "Notes\n",
    " Ignore letter case (should not be case sensitive).\n",
    " All test cases contain valid one word strings."
   ]
  },
  {
   "cell_type": "code",
   "execution_count": 55,
   "id": "8ba0e925",
   "metadata": {},
   "outputs": [],
   "source": [
    "def is_isogram(name):\n",
    "    name = name.upper()\n",
    "    for i in range(len(name)):\n",
    "        if name[i] in name[i+1:]:\n",
    "            return False\n",
    "    return True       "
   ]
  },
  {
   "cell_type": "code",
   "execution_count": 57,
   "id": "3ff5372f",
   "metadata": {},
   "outputs": [
    {
     "data": {
      "text/plain": [
       "True"
      ]
     },
     "execution_count": 57,
     "metadata": {},
     "output_type": "execute_result"
    }
   ],
   "source": [
    "is_isogram('Algorism')"
   ]
  },
  {
   "cell_type": "markdown",
   "id": "f124e470",
   "metadata": {},
   "source": [
    "Question5\n",
    "Create a function that takes a string and returns True or False, depending on whether the characters are in order or not.\n",
    "Examples\n",
    "is_in_order('abc') ➞ True\n",
    "is_in_order('edabit') ➞ False\n",
    "is_in_order('123') ➞ True\n",
    "is_in_order('xyzz') ➞ True\n",
    "Notes\n",
    "You don't have to handle empty strings."
   ]
  },
  {
   "cell_type": "code",
   "execution_count": 65,
   "id": "823ff265",
   "metadata": {},
   "outputs": [],
   "source": [
    "def is_in_order(word):\n",
    "    new =[i for i in word]\n",
    "    sorted_word = ''.join(sorted(new))\n",
    "    if sorted_word == word:\n",
    "        return True\n",
    "    else:\n",
    "        return False"
   ]
  },
  {
   "cell_type": "code",
   "execution_count": 66,
   "id": "93390986",
   "metadata": {},
   "outputs": [
    {
     "data": {
      "text/plain": [
       "False"
      ]
     },
     "execution_count": 66,
     "metadata": {},
     "output_type": "execute_result"
    }
   ],
   "source": [
    "is_in_order('edabit')"
   ]
  },
  {
   "cell_type": "code",
   "execution_count": 81,
   "id": "cbb1b3e2",
   "metadata": {},
   "outputs": [],
   "source": [
    "def In_order(wrd):\n",
    "    for i in range(len(wrd)-1):\n",
    "        if wrd[i]>wrd[i+1]:\n",
    "            return False\n",
    "    return True"
   ]
  },
  {
   "cell_type": "code",
   "execution_count": 82,
   "id": "026071c4",
   "metadata": {},
   "outputs": [
    {
     "data": {
      "text/plain": [
       "True"
      ]
     },
     "execution_count": 82,
     "metadata": {},
     "output_type": "execute_result"
    }
   ],
   "source": [
    "In_order('xyzz')"
   ]
  },
  {
   "cell_type": "code",
   "execution_count": null,
   "id": "0bbf6d87",
   "metadata": {},
   "outputs": [],
   "source": []
  }
 ],
 "metadata": {
  "kernelspec": {
   "display_name": "Python 3 (ipykernel)",
   "language": "python",
   "name": "python3"
  },
  "language_info": {
   "codemirror_mode": {
    "name": "ipython",
    "version": 3
   },
   "file_extension": ".py",
   "mimetype": "text/x-python",
   "name": "python",
   "nbconvert_exporter": "python",
   "pygments_lexer": "ipython3",
   "version": "3.9.13"
  }
 },
 "nbformat": 4,
 "nbformat_minor": 5
}
