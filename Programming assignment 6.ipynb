{
 "cells": [
  {
   "cell_type": "code",
   "execution_count": null,
   "id": "77d3787b",
   "metadata": {},
   "outputs": [],
   "source": [
    "1.\tWrite a Python Program to Display Fibonacci Sequence Using Recursion?"
   ]
  },
  {
   "cell_type": "code",
   "execution_count": 42,
   "id": "d55ea748",
   "metadata": {},
   "outputs": [],
   "source": [
    "def recursion_fibonacci(n):  \n",
    "    if n <= 1:  \n",
    "        return n  \n",
    "    else:  \n",
    "        return(recursion_fibonacci(n-1) + recursion_fibonacci(n-2)) "
   ]
  },
  {
   "cell_type": "code",
   "execution_count": 43,
   "id": "fa63c4dd",
   "metadata": {},
   "outputs": [
    {
     "data": {
      "text/plain": [
       "55"
      ]
     },
     "execution_count": 43,
     "metadata": {},
     "output_type": "execute_result"
    }
   ],
   "source": [
    "recursion_fibonacci(10)"
   ]
  },
  {
   "cell_type": "code",
   "execution_count": null,
   "id": "6c2c280b",
   "metadata": {},
   "outputs": [],
   "source": [
    "2.\tWrite a Python Program to Find Factorial of Number Using Recursion?"
   ]
  },
  {
   "cell_type": "code",
   "execution_count": 30,
   "id": "3b15a791",
   "metadata": {},
   "outputs": [],
   "source": [
    "def recursion_factorial(n):\n",
    "    if n == 1:\n",
    "        return n\n",
    "    if n < 0:\n",
    "        print(\"Sorry, factorial does not exist for negative numbers\")\n",
    "    elif n == 0:\n",
    "        print(\"The factorial of 0 is 1\")\n",
    "    else:\n",
    "        return n*recursion_factorial(n-1)\n",
    "    "
   ]
  },
  {
   "cell_type": "code",
   "execution_count": 46,
   "id": "5d1bb7fc",
   "metadata": {},
   "outputs": [
    {
     "data": {
      "text/plain": [
       "120"
      ]
     },
     "execution_count": 46,
     "metadata": {},
     "output_type": "execute_result"
    }
   ],
   "source": [
    "recursion_factorial(5)"
   ]
  },
  {
   "cell_type": "code",
   "execution_count": null,
   "id": "1d905015",
   "metadata": {},
   "outputs": [],
   "source": [
    "3.\tWrite a Python Program to calculate your Body Mass Index?"
   ]
  },
  {
   "cell_type": "code",
   "execution_count": 25,
   "id": "8b11a3f6",
   "metadata": {},
   "outputs": [
    {
     "name": "stdout",
     "output_type": "stream",
     "text": [
      "Provide weight of person  : 65\n",
      "Provide height of person in centi mtr  : 165\n",
      "Body Mass Index of person is : 23.87511478420569\n"
     ]
    }
   ],
   "source": [
    "a=int(input('Provide weight of person  : '))\n",
    "b=int(input('Provide height of person in centi mtr  : '))\n",
    "c=b*0.01\n",
    "print('Body Mass Index of person is :',a/(c*c))"
   ]
  },
  {
   "cell_type": "code",
   "execution_count": null,
   "id": "669d008a",
   "metadata": {},
   "outputs": [],
   "source": [
    "4.\tWrite a Python Program to calculate the natural logarithm of any number?"
   ]
  },
  {
   "cell_type": "code",
   "execution_count": 48,
   "id": "141a20d7",
   "metadata": {},
   "outputs": [
    {
     "name": "stdout",
     "output_type": "stream",
     "text": [
      "number to find log :15\n"
     ]
    },
    {
     "data": {
      "text/plain": [
       "2.70805020110221"
      ]
     },
     "execution_count": 48,
     "metadata": {},
     "output_type": "execute_result"
    }
   ],
   "source": [
    "import math\n",
    "x=int(input('number to find log :'))\n",
    "math.log(x)"
   ]
  },
  {
   "cell_type": "code",
   "execution_count": null,
   "id": "9e4bab6e",
   "metadata": {},
   "outputs": [],
   "source": [
    "5.\tWrite a Python Program for cube sum of first n natural numbers?"
   ]
  },
  {
   "cell_type": "code",
   "execution_count": 22,
   "id": "5fd90bfc",
   "metadata": {},
   "outputs": [
    {
     "name": "stdout",
     "output_type": "stream",
     "text": [
      "provide first natural number : 1\n",
      "provide last natural number  : 5\n",
      "sum of cube of natural b/w provided number is 100\n"
     ]
    }
   ],
   "source": [
    "a=int(input('provide first natural number : '))\n",
    "b=int(input('provide last natural number  : '))\n",
    "l=[]\n",
    "for i in range(a,b):\n",
    "    l.append(i*i*i)\n",
    "print('sum of cube of natural b/w provided number is' , sum(l))"
   ]
  },
  {
   "cell_type": "code",
   "execution_count": null,
   "id": "0ba0576e",
   "metadata": {},
   "outputs": [],
   "source": []
  }
 ],
 "metadata": {
  "kernelspec": {
   "display_name": "Python 3 (ipykernel)",
   "language": "python",
   "name": "python3"
  },
  "language_info": {
   "codemirror_mode": {
    "name": "ipython",
    "version": 3
   },
   "file_extension": ".py",
   "mimetype": "text/x-python",
   "name": "python",
   "nbconvert_exporter": "python",
   "pygments_lexer": "ipython3",
   "version": "3.9.7"
  }
 },
 "nbformat": 4,
 "nbformat_minor": 5
}
