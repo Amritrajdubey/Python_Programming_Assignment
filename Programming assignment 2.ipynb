{
 "cells": [
  {
   "cell_type": "code",
   "execution_count": null,
   "id": "1d6ca9f3",
   "metadata": {},
   "outputs": [],
   "source": [
    "1.\tWrite a Python program to convert kilometers to miles?"
   ]
  },
  {
   "cell_type": "code",
   "execution_count": 1,
   "id": "06b11a44",
   "metadata": {},
   "outputs": [
    {
     "name": "stdout",
     "output_type": "stream",
     "text": [
      "Required kms to convert in miles  : 100\n",
      "62.1\n"
     ]
    }
   ],
   "source": [
    "a=int(input('Required kms to convert in miles  : '))\n",
    "b=a*0.621\n",
    "print(b)"
   ]
  },
  {
   "cell_type": "code",
   "execution_count": null,
   "id": "7186fa54",
   "metadata": {},
   "outputs": [],
   "source": [
    "2.\tWrite a Python program to convert Celsius to Fahrenheit?"
   ]
  },
  {
   "cell_type": "code",
   "execution_count": 2,
   "id": "1e58365c",
   "metadata": {},
   "outputs": [
    {
     "name": "stdout",
     "output_type": "stream",
     "text": [
      "Temp in celcius  : 100\n",
      "212.0\n"
     ]
    }
   ],
   "source": [
    "a=int(input('Temp in celcius  : '))\n",
    "TempinF =(a*1.8)+32\n",
    "print(TempinF)"
   ]
  },
  {
   "cell_type": "code",
   "execution_count": null,
   "id": "89ce5454",
   "metadata": {},
   "outputs": [],
   "source": [
    "3.\tWrite a Python program to display calendar?"
   ]
  },
  {
   "cell_type": "code",
   "execution_count": 16,
   "id": "d8094064",
   "metadata": {},
   "outputs": [
    {
     "name": "stdout",
     "output_type": "stream",
     "text": [
      "    October 2022\n",
      "Mo Tu We Th Fr Sa Su\n",
      "                1  2\n",
      " 3  4  5  6  7  8  9\n",
      "10 11 12 13 14 15 16\n",
      "17 18 19 20 21 22 23\n",
      "24 25 26 27 28 29 30\n",
      "31\n",
      "\n"
     ]
    }
   ],
   "source": [
    "import calendar\n",
    "yy=2022\n",
    "mm=10\n",
    "print(calendar.month(yy,mm))"
   ]
  },
  {
   "cell_type": "code",
   "execution_count": null,
   "id": "b9a40d6d",
   "metadata": {},
   "outputs": [],
   "source": [
    "4.\tWrite a Python program to solve quadratic equation?"
   ]
  },
  {
   "cell_type": "code",
   "execution_count": 14,
   "id": "e4b96c4a",
   "metadata": {},
   "outputs": [
    {
     "name": "stdout",
     "output_type": "stream",
     "text": [
      "1st constant of quadratic equation  : 54\n",
      "2nd constant of quadratic equation  : 1\n",
      "3rd constant of quadratic equation  : 8\n",
      "Sqroot (2.5446439557711348e-15+41.557189510360296j)\n",
      "roots are complex   :  -0.009259259259259259  +i  (2.5446439557711348e-15+41.557189510360296j)\n",
      "roots are complex   :  -0.009259259259259259  -i  (2.5446439557711348e-15+41.557189510360296j)\n"
     ]
    }
   ],
   "source": [
    "a=int(input('1st constant of quadratic equation  : '))\n",
    "b=int(input('2nd constant of quadratic equation  : '))\n",
    "c=int(input('3rd constant of quadratic equation  : '))\n",
    "sqroot = (b*b - 4*a*c)**(1/2)\n",
    "print('Sqroot' , sqroot)\n",
    "if b**b - 4*a*c < 0 :\n",
    "    print('roots are complex ',\" : \" , -b/(2*a),\" +i \",sqroot )\n",
    "    print('roots are complex ',\" : \" , -b/(2*a),\" -i \",sqroot )\n",
    "elif sqroot == 0 :\n",
    "    print('roots is real and same' ,\" : \" ,  -b/(2*a))\n",
    "elif sqroot > 0 :\n",
    "    print('roots is real and different' , \" : \" , (-b+ sqroot)/2*a)\n",
    "    print('roots is real and different' , \" : \" , (-b- sqroot)/2*a)\n",
    "    "
   ]
  },
  {
   "cell_type": "code",
   "execution_count": null,
   "id": "fef9fc9f",
   "metadata": {},
   "outputs": [],
   "source": [
    "5.\tWrite a Python program to swap two variables without temp variable?"
   ]
  },
  {
   "cell_type": "code",
   "execution_count": 2,
   "id": "dfd331dc",
   "metadata": {},
   "outputs": [],
   "source": [
    "l= lambda a , b :[b,a]"
   ]
  },
  {
   "cell_type": "code",
   "execution_count": 4,
   "id": "deb307ca",
   "metadata": {},
   "outputs": [
    {
     "data": {
      "text/plain": [
       "[6, 3]"
      ]
     },
     "execution_count": 4,
     "metadata": {},
     "output_type": "execute_result"
    }
   ],
   "source": [
    "l(3,6)"
   ]
  },
  {
   "cell_type": "code",
   "execution_count": null,
   "id": "f11edbd0",
   "metadata": {},
   "outputs": [],
   "source": []
  }
 ],
 "metadata": {
  "kernelspec": {
   "display_name": "Python 3 (ipykernel)",
   "language": "python",
   "name": "python3"
  },
  "language_info": {
   "codemirror_mode": {
    "name": "ipython",
    "version": 3
   },
   "file_extension": ".py",
   "mimetype": "text/x-python",
   "name": "python",
   "nbconvert_exporter": "python",
   "pygments_lexer": "ipython3",
   "version": "3.9.7"
  }
 },
 "nbformat": 4,
 "nbformat_minor": 5
}
