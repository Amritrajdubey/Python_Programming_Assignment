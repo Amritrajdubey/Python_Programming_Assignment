{
 "cells": [
  {
   "cell_type": "markdown",
   "id": "3fdc640d",
   "metadata": {},
   "source": [
    "Question1\n",
    "Write a function that takes a list and a number as arguments. Add the number to the end of the list, then remove the first element of the list. The function should then return the updated list.\n",
    "Examples\n",
    "next_in_line([5, 6, 7, 8, 9], 1) ➞ [6, 7, 8, 9, 1]\n",
    "next_in_line([7, 6, 3, 23, 17], 10) ➞ [6, 3, 23, 17, 10]\n",
    "next_in_line([1, 10, 20, 42 ], 6) ➞ [10, 20, 42, 6]\n",
    "next_in_line([], 6) ➞ 'No list has been selected'"
   ]
  },
  {
   "cell_type": "code",
   "execution_count": 94,
   "id": "53c2162b",
   "metadata": {},
   "outputs": [],
   "source": [
    "def next_in_line(l,new):\n",
    "        if len(l)==0:\n",
    "            print('No list has been selected')\n",
    "        else:\n",
    "            l.append(new)\n",
    "            print(l[1:])"
   ]
  },
  {
   "cell_type": "code",
   "execution_count": 96,
   "id": "053003df",
   "metadata": {},
   "outputs": [
    {
     "name": "stdout",
     "output_type": "stream",
     "text": [
      "[10, 20, 42, 6]\n"
     ]
    }
   ],
   "source": [
    "next_in_line([1, 10, 20, 42], 6)"
   ]
  },
  {
   "cell_type": "markdown",
   "id": "22f74265",
   "metadata": {},
   "source": [
    "Question2\n",
    "\n",
    "Create the function that takes a list of dictionaries and returns the sum of people's budgets.\n",
    "Examples\n",
    "get_budgets([\n",
    "{ 'name': 'John', 'age': 21,'budget': 23000 },{ 'name': 'Steve', 'age': 32, 'budget': 40000 },{ 'name': 'Martin', 'age': 16, 'budget': 2700 }]) ➞ 65700\n",
    "get_budgets([\n",
    "{ 'name': 'John', 'age': 21, 'budget': 29000 },{ 'name': 'Steve', 'age': 32, 'budget': 32000 },{ 'name': 'Martin', 'age': 16, 'budget': 1600 }]) ➞ 62600"
   ]
  },
  {
   "cell_type": "code",
   "execution_count": 65,
   "id": "ecf0a2f0",
   "metadata": {},
   "outputs": [],
   "source": [
    "def get_budgets(budgets):\n",
    "    bud =[]\n",
    "    for i in budgets:\n",
    "        bud.append(i['budget'])\n",
    "    print(sum(bud))"
   ]
  },
  {
   "cell_type": "code",
   "execution_count": 66,
   "id": "b1d70269",
   "metadata": {},
   "outputs": [
    {
     "name": "stdout",
     "output_type": "stream",
     "text": [
      "65700\n"
     ]
    }
   ],
   "source": [
    "get_budgets([\n",
    "{ 'name': 'John', 'age': 21,'budget': 23000 },{ 'name': 'Steve', 'age': 32, 'budget': 40000 },{ 'name': 'Martin', 'age': 16, 'budget': 2700 }])"
   ]
  },
  {
   "cell_type": "markdown",
   "id": "28a8e1c0",
   "metadata": {},
   "source": [
    "Question3\n",
    "Create a function that takes a string and returns a string with its letters in alphabetical order.\n",
    "Examples\n",
    "alphabet_soup('hello') ➞ 'ehllo'\n",
    "alphabet_soup('edabit') ➞ 'abdeit'\n",
    "alphabet_soup('hacker') ➞ 'acehkr'\n",
    "alphabet_soup('geek') ➞ 'eegk'\n",
    "alphabet_soup('javascript') ➞ 'aacijprstv'"
   ]
  },
  {
   "cell_type": "code",
   "execution_count": 127,
   "id": "a6822844",
   "metadata": {},
   "outputs": [],
   "source": [
    "def alphabet_soup(x) :  \n",
    "    x = sorted(x)\n",
    "    sep=''\n",
    "    joined = sep.join(x)\n",
    "    print(f\" '{joined}'\")"
   ]
  },
  {
   "cell_type": "code",
   "execution_count": 128,
   "id": "162770c5",
   "metadata": {},
   "outputs": [
    {
     "name": "stdout",
     "output_type": "stream",
     "text": [
      " 'aacijprstv'\n"
     ]
    }
   ],
   "source": [
    "alphabet_soup('javascript')"
   ]
  },
  {
   "cell_type": "markdown",
   "id": "8baa1bf6",
   "metadata": {},
   "source": [
    "Question4\n",
    "Suppose that you invest $10,000 for 10 years at an interest rate of 6% compounded monthly.\n",
    "What will be the value of your investment at the end of the 10 year period?\n",
    "Create a function that accepts the principal p, the term in years t, the interest rate r, and the\n",
    "number of compounding periods per year n. The function returns the value at the end of term\n",
    "rounded to the nearest cent.\n",
    "For the example above:\n",
    "compound_interest(10000, 10, 0.06, 12) ➞ 18193.97\n",
    "Note that the interest rate is given as a decimal and n=12 because with monthly compounding\n",
    "there are 12 periods per year. Compounding can also be done annually, quarterly, weekly, or\n",
    "daily.\n",
    "Examples\n",
    "compound_interest(100, 1, 0.05, 1) ➞ 105.0\n",
    "compound_interest(3500, 15, 0.1, 4) ➞ 15399.26\n",
    "compound_interest(100000, 20, 0.15, 365) ➞ 2007316.26"
   ]
  },
  {
   "cell_type": "code",
   "execution_count": 142,
   "id": "f37bc6ac",
   "metadata": {},
   "outputs": [],
   "source": [
    "def compound_interest(p,y,r,c_p):\n",
    "    final_amount = p*((1+ r/c_p)**(c_p*y))\n",
    "    print('%.2f' %final_amount)"
   ]
  },
  {
   "cell_type": "code",
   "execution_count": 143,
   "id": "5d85a8f0",
   "metadata": {},
   "outputs": [
    {
     "name": "stdout",
     "output_type": "stream",
     "text": [
      "18193.97\n"
     ]
    }
   ],
   "source": [
    "compound_interest(10000, 10, 0.06, 12)"
   ]
  },
  {
   "cell_type": "markdown",
   "id": "e6e5e916",
   "metadata": {},
   "source": [
    "Question5\n",
    "Write a function that takes a list of elements and returns only the integers.\n",
    "Examples\n",
    "return_only_integer([9, 2, 'space',' car', 'lion', 16]) ➞ [9, 2, 16]\n",
    "return_only_integer(['hello', 81, 'basketball', 123, 'fox']) ➞ [81, 123]\n",
    "return_only_integer([10, 121, 56, 20, 'car', 3, 'lion']) ➞ [10, 56, 20,3]\n",
    "return_only_integer(['String', 'True', 3.3, 1]) ➞ [1]"
   ]
  },
  {
   "cell_type": "code",
   "execution_count": 5,
   "id": "36cba84e",
   "metadata": {},
   "outputs": [],
   "source": [
    "def return_only_integer(l):\n",
    "    l1=[]\n",
    "    for i in l:            \n",
    "        if type(i)==int and i>0:\n",
    "            l1.append(i)\n",
    "        elif type(i) != int:\n",
    "            continue\n",
    "    print(l1)"
   ]
  },
  {
   "cell_type": "code",
   "execution_count": 7,
   "id": "c47e7ec2",
   "metadata": {},
   "outputs": [
    {
     "name": "stdout",
     "output_type": "stream",
     "text": [
      "[81, 123]\n"
     ]
    }
   ],
   "source": [
    "return_only_integer(['hello', 81, 'basketball', 123, 'fox'])"
   ]
  },
  {
   "cell_type": "code",
   "execution_count": null,
   "id": "88882b78",
   "metadata": {},
   "outputs": [],
   "source": []
  }
 ],
 "metadata": {
  "kernelspec": {
   "display_name": "Python 3 (ipykernel)",
   "language": "python",
   "name": "python3"
  },
  "language_info": {
   "codemirror_mode": {
    "name": "ipython",
    "version": 3
   },
   "file_extension": ".py",
   "mimetype": "text/x-python",
   "name": "python",
   "nbconvert_exporter": "python",
   "pygments_lexer": "ipython3",
   "version": "3.9.13"
  }
 },
 "nbformat": 4,
 "nbformat_minor": 5
}
