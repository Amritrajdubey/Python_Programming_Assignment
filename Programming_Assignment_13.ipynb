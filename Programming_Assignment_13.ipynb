{
 "cells": [
  {
   "cell_type": "markdown",
   "id": "99e139c1",
   "metadata": {},
   "source": [
    "Question 1:\n",
    "Write a program that calculates and prints the value according to the given formula:\n",
    "Q = Square root of [(2 * C * D)/H]\n",
    "Following are the fixed values of C and H:\n",
    "C is 50. H is 30.\n",
    "D is the variable whose values should be input to your program in a comma-separated sequence.\n",
    "Example\n",
    "Let us assume the following comma separated input sequence is given to the program:\n",
    "100,150,180\n",
    "The output of the program should be:\n",
    "18,22,24"
   ]
  },
  {
   "cell_type": "code",
   "execution_count": 17,
   "id": "e3361882",
   "metadata": {},
   "outputs": [
    {
     "name": "stdout",
     "output_type": "stream",
     "text": [
      "Provided values of D :100,150,180\n",
      "18,22,24,"
     ]
    }
   ],
   "source": [
    "C , H = 50 , 30\n",
    "D_values = (input('Provided values of D :'))\n",
    "D_list = D_values.split(',')\n",
    "for D in D_list:\n",
    "    Q = round(((2 * C * int(D))/H) ** .5)\n",
    "    print(Q ,end =',')"
   ]
  },
  {
   "cell_type": "markdown",
   "id": "3679f675",
   "metadata": {},
   "source": [
    "Question 2:\n",
    "Write a program which takes 2 digits, X,Y as input and generates a 2-dimensional array. The\n",
    "element value in the i-th row and j-th column of the array should be i*j.\n",
    "Note: i=0,1.., X-1; j=0,1,¡Y-1.\n",
    "Example\n",
    "Suppose the following inputs are given to the program:\n",
    "3,5\n",
    "Then, the output of the program should be:\n",
    "[[0, 0, 0, 0, 0], [0, 1, 2, 3, 4], [0, 2, 4, 6, 8]]"
   ]
  },
  {
   "cell_type": "code",
   "execution_count": 23,
   "id": "d619b769",
   "metadata": {},
   "outputs": [
    {
     "name": "stdout",
     "output_type": "stream",
     "text": [
      "Enter value of X and Y with comma seperated :2,3\n",
      "[[0, 0, 0], [0, 1, 2]]\n"
     ]
    }
   ],
   "source": [
    "X ,Y = map(int,input('Enter value of X and Y with comma seperated :').split(',')) # Code for input of X,Y\n",
    "\n",
    "array_2d =[] # Initializing blank 2-D list\n",
    "\n",
    "for i in range(X): # As i start from 0 so taking range(X)\n",
    "    row = [] # Initializing another blank list to append i*j value\n",
    "    for j in range(Y): # Considering j inside i as for each row we have j nos of columns\n",
    "        row.append(i*j) # appending required value i*j to blank list\n",
    "    array_2d.append(row) # After complete row is appended we append complete row detail to 2D array\n",
    "\n",
    "print(array_2d)    "
   ]
  },
  {
   "cell_type": "markdown",
   "id": "9b78fdd5",
   "metadata": {},
   "source": [
    "Question 3:\n",
    "Write a program that accepts a comma separated sequence of words as input and prints the\n",
    "words in a comma-separated sequence after sorting them alphabetically.\n",
    "Suppose the following input is supplied to the program:\n",
    "without,hello,bag,world\n",
    "Then, the output should be:\n",
    "bag,hello,without,world"
   ]
  },
  {
   "cell_type": "code",
   "execution_count": 60,
   "id": "0443f829",
   "metadata": {},
   "outputs": [
    {
     "name": "stdout",
     "output_type": "stream",
     "text": [
      "Input comma separated sequence of words  :red , black , pink, green\n",
      " black , green, pink,red \n"
     ]
    }
   ],
   "source": [
    "word = input(\"Input comma separated sequence of words  :\")\n",
    "words = [word for word in word.split(\",\")]\n",
    "print(\",\".join(sorted(list(set(words)))))"
   ]
  },
  {
   "cell_type": "markdown",
   "id": "32eac5c5",
   "metadata": {},
   "source": [
    "Question 4:\n",
    "Write a program that accepts a sequence of whitespace separated words as input and prints\n",
    "the words after removing all duplicate words and sorting them alphanumerically.\n",
    "Suppose the following input is supplied to the program:\n",
    "hello world and practice makes perfect and hello world again\n",
    "Then, the output should be:\n",
    "again and hello makes perfect practice world"
   ]
  },
  {
   "cell_type": "code",
   "execution_count": 14,
   "id": "8300a996",
   "metadata": {},
   "outputs": [
    {
     "name": "stdout",
     "output_type": "stream",
     "text": [
      "Enter a sequence of whitespace separated words: red , black , pink , green , red , pink\n",
      ", black green pink red\n"
     ]
    }
   ],
   "source": [
    "words = input(\"Enter a sequence of whitespace separated words: \").split()\n",
    "unique_words = sorted(set(words))\n",
    "print(\" \".join(unique_words))"
   ]
  },
  {
   "cell_type": "markdown",
   "id": "593b8382",
   "metadata": {},
   "source": [
    "Question 5:\n",
    "Write a program that accepts a sentence and calculate the number of letters and digits.\n",
    "Suppose the following input is supplied to the program:\n",
    "hello world! 123\n",
    "Then, the output should be:\n",
    "\n",
    "LETTERS 10\n",
    "DIGITS 3"
   ]
  },
  {
   "cell_type": "code",
   "execution_count": 11,
   "id": "d77f51cb",
   "metadata": {},
   "outputs": [
    {
     "name": "stdout",
     "output_type": "stream",
     "text": [
      "Provide the sentence containing word and numeric values :India is unique 1 out or all more than 150 countries\n",
      "Nos of character in the sentence is : 38\n",
      "Nos of numeric value in sentence is : 4\n"
     ]
    }
   ],
   "source": [
    "w= input('Provide the sentence containing word and numeric values :')\n",
    "w.split\n",
    "l=[]\n",
    "l1 =[]\n",
    "for i in w:\n",
    "    if i.isalpha():\n",
    "        l.append(i)\n",
    "    elif i.isalnum():\n",
    "        l1.append(i)\n",
    "print('Nos of character in the sentence is :',len(l))\n",
    "print('Nos of numeric value in sentence is :',len(l1))\n",
    "    "
   ]
  },
  {
   "cell_type": "markdown",
   "id": "3c88aff7",
   "metadata": {},
   "source": [
    "Question 6:\n",
    "A website requires the users to input username and password to register. Write a program to\n",
    "check the validity of password input by users.\n",
    "Following are the criteria for checking the password:\n",
    "1. At least 1 letter between [a-z]\n",
    "2. At least 1 number between [0-9]\n",
    "1. At least 1 letter between [A-Z]\n",
    "3. At least 1 character from [$#@]\n",
    "4. Minimum length of transaction password: 6\n",
    "5. Maximum length of transaction password: 12\n",
    "\n",
    "Your program should accept a sequence of comma separated passwords and will check them\n",
    "according to the above criteria. Passwords that match the criteria are to be printed, each\n",
    "separated by a comma.\n",
    "Example\n",
    "If the following passwords are given as input to the program:\n",
    "ABd1234@1,a F1#,2w3E*,2We3345\n",
    "Then, the output of the program should be:\n",
    "ABd1234@1"
   ]
  },
  {
   "cell_type": "code",
   "execution_count": 24,
   "id": "2adec3e0",
   "metadata": {},
   "outputs": [
    {
     "name": "stdout",
     "output_type": "stream",
     "text": [
      "Enter comma separated passwords: Amrit@1\n",
      "Amrit@1\n"
     ]
    }
   ],
   "source": [
    "password = input(\"Enter comma separated passwords: \").split(\",\")\n",
    "\n",
    "valid_password = []\n",
    "\n",
    "for Pswd in password:\n",
    "    if 6 <= len(Pswd) <= 12:\n",
    "        if any(i.isdigit() for i in Pswd) and any(i.islower() for i in Pswd) and any(i.isupper() for i in Pswd):\n",
    "            if any(i in ['$','#','@'] for i in Pswd):\n",
    "                valid_password.append(Pswd)\n",
    "\n",
    "print(\",\".join(valid_password))\n"
   ]
  }
 ],
 "metadata": {
  "kernelspec": {
   "display_name": "Python 3 (ipykernel)",
   "language": "python",
   "name": "python3"
  },
  "language_info": {
   "codemirror_mode": {
    "name": "ipython",
    "version": 3
   },
   "file_extension": ".py",
   "mimetype": "text/x-python",
   "name": "python",
   "nbconvert_exporter": "python",
   "pygments_lexer": "ipython3",
   "version": "3.9.13"
  }
 },
 "nbformat": 4,
 "nbformat_minor": 5
}
