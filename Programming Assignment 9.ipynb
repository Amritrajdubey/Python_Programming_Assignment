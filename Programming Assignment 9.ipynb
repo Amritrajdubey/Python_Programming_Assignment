{
 "cells": [
  {
   "cell_type": "markdown",
   "id": "cb143809",
   "metadata": {},
   "source": [
    "1). Write a Python program to check if the given number is a Disarium Number?"
   ]
  },
  {
   "cell_type": "code",
   "execution_count": 1,
   "id": "bf1060b2",
   "metadata": {},
   "outputs": [
    {
     "name": "stdout",
     "output_type": "stream",
     "text": [
      "Enter a number: 45\n",
      "45 is not a Disarium Number\n"
     ]
    }
   ],
   "source": [
    "num = input(\"Enter a number: \")\n",
    "n = len(num)\n",
    "sum = 0\n",
    "for i in range(n):\n",
    "    sum += int(num[i])**(i+1)\n",
    "if sum == int(num):\n",
    "    print(num, \"is a Disarium Number\")\n",
    "else:\n",
    "    print(num, \"is not a Disarium Number\")"
   ]
  },
  {
   "cell_type": "markdown",
   "id": "3afc1c31",
   "metadata": {},
   "source": [
    "2). Write a Python program to print all disarium numbers between 1 to 100?"
   ]
  },
  {
   "cell_type": "code",
   "execution_count": 6,
   "id": "2f041454",
   "metadata": {},
   "outputs": [
    {
     "name": "stdout",
     "output_type": "stream",
     "text": [
      "1\n",
      "2\n",
      "3\n",
      "4\n",
      "5\n",
      "6\n",
      "7\n",
      "8\n",
      "9\n",
      "89\n"
     ]
    }
   ],
   "source": [
    "for i in range(1, 101):\n",
    "    n = len(str(i))\n",
    "    sum = 0\n",
    "    temp = i\n",
    "    while temp > 0:\n",
    "        digit = temp % 10\n",
    "        sum += digit ** n\n",
    "        temp //= 10\n",
    "        n -= 1\n",
    "    if i == sum:\n",
    "        print(i)\n"
   ]
  },
  {
   "cell_type": "markdown",
   "id": "7ba1f3f5",
   "metadata": {},
   "source": [
    "3). Write a Python program to check if the given number is Happy Number?"
   ]
  },
  {
   "cell_type": "code",
   "execution_count": 7,
   "id": "76b46b0f",
   "metadata": {},
   "outputs": [],
   "source": [
    "def is_happy_number(n):\n",
    "    visited = set()\n",
    "    while n != 1 and n not in visited:\n",
    "        visited.add(n)\n",
    "        \n",
    "        n = sum(int(i)**2 for i in str(n))\n",
    "    \n",
    "    return n == 1"
   ]
  },
  {
   "cell_type": "code",
   "execution_count": 29,
   "id": "2bf5ed33",
   "metadata": {},
   "outputs": [
    {
     "name": "stdout",
     "output_type": "stream",
     "text": [
      "True\n"
     ]
    }
   ],
   "source": [
    "def is_happy_number(n):\n",
    "    nos = set()\n",
    "    while n != 1 and n not in nos:\n",
    "        nos.add(n)\n",
    "        n = sum(int(i)**2 for i in str(n))\n",
    "    return n == 1\n",
    "\n",
    "\n",
    "print(is_happy_number(19))"
   ]
  },
  {
   "cell_type": "markdown",
   "id": "9f16807e",
   "metadata": {},
   "source": [
    "4). Write a Python program to print all happy numbers between 1 and 100?"
   ]
  },
  {
   "cell_type": "code",
   "execution_count": 27,
   "id": "ec5fe2f4",
   "metadata": {
    "scrolled": false
   },
   "outputs": [
    {
     "name": "stdout",
     "output_type": "stream",
     "text": [
      "1\n",
      "7\n",
      "10\n",
      "13\n",
      "19\n",
      "23\n",
      "28\n",
      "31\n",
      "32\n",
      "44\n",
      "49\n",
      "68\n",
      "70\n",
      "79\n",
      "82\n",
      "86\n",
      "91\n",
      "94\n",
      "97\n",
      "100\n"
     ]
    }
   ],
   "source": [
    "def is_happy_number(n):\n",
    "    nos = set()\n",
    "    while n != 1 and n not in nos:\n",
    "        nos.add(n)\n",
    "        n = sum(int(i)**2 for i in str(n))\n",
    "    return n == 1\n",
    "\n",
    "for x in range(101):\n",
    "    if is_happy_number(x):\n",
    "        print(x)"
   ]
  },
  {
   "cell_type": "markdown",
   "id": "adf0f102",
   "metadata": {},
   "source": [
    "5). Write a Python program to determine whether the given number is a Harshad Number?"
   ]
  },
  {
   "cell_type": "code",
   "execution_count": 30,
   "id": "65ddef34",
   "metadata": {},
   "outputs": [
    {
     "name": "stdout",
     "output_type": "stream",
     "text": [
      "True\n"
     ]
    }
   ],
   "source": [
    "def is_harshad_number(n):\n",
    "    digits_sum = sum(int(digit) for digit in str(n))\n",
    "    return n % digits_sum == 0\n",
    "\n",
    "print(is_harshad_number(18))"
   ]
  },
  {
   "cell_type": "markdown",
   "id": "aac5db89",
   "metadata": {},
   "source": [
    "6). Write a Python program to print all pronic numbers between 1 and 100?"
   ]
  },
  {
   "cell_type": "code",
   "execution_count": 31,
   "id": "6de76057",
   "metadata": {},
   "outputs": [
    {
     "name": "stdout",
     "output_type": "stream",
     "text": [
      "2\n",
      "6\n",
      "12\n",
      "20\n",
      "30\n",
      "42\n",
      "56\n",
      "72\n",
      "90\n"
     ]
    }
   ],
   "source": [
    "def is_pronic_number(n):\n",
    "    for i in range(1, int(n**0.5)+1):\n",
    "        if i*(i+1) == n:\n",
    "            return True\n",
    "    return False\n",
    "\n",
    "for i in range(1, 101):\n",
    "    if is_pronic_number(i):\n",
    "        print(i)"
   ]
  },
  {
   "cell_type": "code",
   "execution_count": null,
   "id": "2adf942b",
   "metadata": {},
   "outputs": [],
   "source": []
  }
 ],
 "metadata": {
  "kernelspec": {
   "display_name": "Python 3 (ipykernel)",
   "language": "python",
   "name": "python3"
  },
  "language_info": {
   "codemirror_mode": {
    "name": "ipython",
    "version": 3
   },
   "file_extension": ".py",
   "mimetype": "text/x-python",
   "name": "python",
   "nbconvert_exporter": "python",
   "pygments_lexer": "ipython3",
   "version": "3.9.13"
  }
 },
 "nbformat": 4,
 "nbformat_minor": 5
}
