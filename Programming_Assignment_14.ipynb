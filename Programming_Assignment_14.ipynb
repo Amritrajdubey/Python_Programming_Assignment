{
 "cells": [
  {
   "cell_type": "markdown",
   "id": "6a37c17e",
   "metadata": {},
   "source": [
    "Question 1:\n",
    "Define a class with a generator which can iterate the numbers, which are divisible by\n",
    "7, between a given range 0 and n."
   ]
  },
  {
   "cell_type": "code",
   "execution_count": 22,
   "id": "3c2665a6",
   "metadata": {},
   "outputs": [],
   "source": [
    "class Div_by_7:\n",
    "    def __init__(self,n):\n",
    "        self.n =n\n",
    "        \n",
    "    def __iter__(self):\n",
    "        for i in range(self.n):\n",
    "            if i % 7==0 :\n",
    "                yield i"
   ]
  },
  {
   "cell_type": "code",
   "execution_count": 23,
   "id": "e8b71470",
   "metadata": {},
   "outputs": [
    {
     "name": "stdout",
     "output_type": "stream",
     "text": [
      "0\n",
      "7\n",
      "14\n",
      "21\n",
      "28\n",
      "35\n",
      "42\n",
      "49\n",
      "56\n",
      "63\n",
      "70\n",
      "77\n",
      "84\n",
      "91\n",
      "98\n"
     ]
    }
   ],
   "source": [
    "Div = Div_by_7(100)\n",
    "for x in Div:\n",
    "    print(x)"
   ]
  },
  {
   "cell_type": "markdown",
   "id": "c7e31cff",
   "metadata": {},
   "source": [
    "\n",
    "Question 2:\n",
    "Write a program to compute the frequency of the words from the input. The output\n",
    "should output after sorting the key alphanumerically.\n",
    "Suppose the following input is supplied to the program:\n",
    "\n",
    "New to Python or choosing between Python 2 and Python 3? Read Python 2 or\n",
    "Python 3.\n",
    "Then, the output should be:\n",
    "2:2\n",
    "3.:1\n",
    "3?:1\n",
    "New:1\n",
    "Python:5\n",
    "Read:1\n",
    "and:1\n",
    "between:1\n",
    "choosing:1\n",
    "or:2\n",
    "to:1"
   ]
  },
  {
   "cell_type": "code",
   "execution_count": 62,
   "id": "c07f68d1",
   "metadata": {},
   "outputs": [
    {
     "name": "stdout",
     "output_type": "stream",
     "text": [
      "2:2\n",
      "3.:1\n",
      "3?:1\n",
      "New:1\n",
      "Python:5\n",
      "Read:1\n",
      "and:1\n",
      "between:1\n",
      "choosing:1\n",
      "or:2\n",
      "to:1\n"
     ]
    }
   ],
   "source": [
    "x = \"New to Python or choosing between Python 2 and Python 3? Read Python 2 or Python 3.\"\n",
    "x1 = x.split()\n",
    "x1_key ={}\n",
    "for i in x1:\n",
    "    if i in x1_key:\n",
    "        x1_key[i] += 1\n",
    "    else:\n",
    "        x1_key[i] =1\n",
    "sort_keys = sorted(x1_key.keys())\n",
    "for i in sort_keys:\n",
    "    print(i +':'+ str(x1_key[i]))"
   ]
  },
  {
   "cell_type": "markdown",
   "id": "7758c76b",
   "metadata": {},
   "source": [
    "Question 3:\n",
    "\n",
    "Define a class Person and its two child classes: Male and Female. All classes have a\n",
    "method &quot;getGender&quot; which can print &quot;Male&quot; for Male class and &quot;Female&quot; for Female\n",
    "class."
   ]
  },
  {
   "cell_type": "code",
   "execution_count": 69,
   "id": "2b9017b8",
   "metadata": {},
   "outputs": [
    {
     "name": "stdout",
     "output_type": "stream",
     "text": [
      "Male\n",
      "Female\n"
     ]
    }
   ],
   "source": [
    "class person :\n",
    "    def getGender(self):\n",
    "        print('Unknown')\n",
    "        \n",
    "class male(person):\n",
    "    def getGender(self):\n",
    "        print('Male')\n",
    "\n",
    "class female(person):\n",
    "    def getGender(self):\n",
    "        print('Female')\n",
    "\n",
    "Male = male()\n",
    "Male.getGender()\n",
    "\n",
    "Female = female()\n",
    "Female.getGender()"
   ]
  },
  {
   "cell_type": "markdown",
   "id": "ea6a6914",
   "metadata": {},
   "source": [
    "Question 4:\n",
    "\n",
    "Please write a program to generate all sentences where subject is in ['I','You'] and verb is in ['Play','Love'] and the object is in ['Hockey','Football']."
   ]
  },
  {
   "cell_type": "code",
   "execution_count": 72,
   "id": "a56358dc",
   "metadata": {},
   "outputs": [
    {
     "name": "stdout",
     "output_type": "stream",
     "text": [
      "I Play Hockey\n",
      "I Play Football\n",
      "I Love Hockey\n",
      "I Love Football\n",
      "You Play Hockey\n",
      "You Play Football\n",
      "You Love Hockey\n",
      "You Love Football\n"
     ]
    }
   ],
   "source": [
    "subject = ['I','You']\n",
    "verb = ['Play','Love']\n",
    "object = ['Hockey','Football']\n",
    "\n",
    "for i in subject:\n",
    "    for j in verb:\n",
    "        for k in object:\n",
    "            sentence = f'{i} {j} {k}'\n",
    "            print(sentence)"
   ]
  },
  {
   "cell_type": "markdown",
   "id": "78c6800c",
   "metadata": {},
   "source": [
    "Question 5:\n",
    "\n",
    "Please write a program to compress and decompress the string \n",
    "\"helloworld! hello world! helloworld! hello world!\"."
   ]
  },
  {
   "cell_type": "code",
   "execution_count": 74,
   "id": "464c3244",
   "metadata": {},
   "outputs": [
    {
     "name": "stdout",
     "output_type": "stream",
     "text": [
      "Compressed string :b'x\\x9c\\xcbH\\xcd\\xc9\\xc9/\\xcf/\\xcaIQT\\xc8\\x00\\xb1\\x15\\x909\\x98l\\x00\\xbb\\xfc\\x11\\xf5'\n",
      "Decompressed string :b'helloworld! hello world! helloworld! helloworld!'\n"
     ]
    }
   ],
   "source": [
    "import zlib\n",
    "\n",
    "or_str = \"helloworld! hello world! helloworld! helloworld!\"\n",
    "comp_str = zlib.compress(or_str.encode())\n",
    "print(f'Compressed string :{comp_str}')\n",
    "\n",
    "decomp_str = zlib.decompress(comp_str)\n",
    "print(f'Decompressed string :{decomp_str}')"
   ]
  },
  {
   "cell_type": "markdown",
   "id": "d2f2ca55",
   "metadata": {},
   "source": [
    "Question 6:\n",
    "\n",
    "Please write a binary search function which searches an item in a sorted list. The function should return the index of element to be searched in the list."
   ]
  },
  {
   "cell_type": "code",
   "execution_count": 83,
   "id": "0f80b7d4",
   "metadata": {},
   "outputs": [],
   "source": [
    "def binary_search (lis , x):\n",
    "    list1 = sorted(lis)\n",
    "    for i in range(len(lis)):\n",
    "        if list1[i] == x:\n",
    "            print(f'Index of {x} : {i}')"
   ]
  },
  {
   "cell_type": "code",
   "execution_count": 86,
   "id": "02b010d5",
   "metadata": {},
   "outputs": [
    {
     "name": "stdout",
     "output_type": "stream",
     "text": [
      "Index of 99 : 4\n"
     ]
    }
   ],
   "source": [
    "binary_search([4,9,10,5,99,100],99)"
   ]
  },
  {
   "cell_type": "code",
   "execution_count": null,
   "id": "09599302",
   "metadata": {},
   "outputs": [],
   "source": []
  }
 ],
 "metadata": {
  "kernelspec": {
   "display_name": "Python 3 (ipykernel)",
   "language": "python",
   "name": "python3"
  },
  "language_info": {
   "codemirror_mode": {
    "name": "ipython",
    "version": 3
   },
   "file_extension": ".py",
   "mimetype": "text/x-python",
   "name": "python",
   "nbconvert_exporter": "python",
   "pygments_lexer": "ipython3",
   "version": "3.9.13"
  }
 },
 "nbformat": 4,
 "nbformat_minor": 5
}
