{
 "cells": [
  {
   "cell_type": "code",
   "execution_count": null,
   "id": "b74937cb",
   "metadata": {},
   "outputs": [],
   "source": [
    "1. Write a Python program to Extract Unique values dictionary values?"
   ]
  },
  {
   "cell_type": "code",
   "execution_count": 110,
   "id": "ee7f0114",
   "metadata": {},
   "outputs": [],
   "source": [
    "def uniq_val(d):\n",
    "    for i in d:\n",
    "        if type(i) == dict:\n",
    "            uniq = list(sorted({m for val in i.values() for m in val}))\n",
    "            print(str(uniq))\n",
    "    "
   ]
  },
  {
   "cell_type": "code",
   "execution_count": 111,
   "id": "8241d367",
   "metadata": {},
   "outputs": [
    {
     "name": "stdout",
     "output_type": "stream",
     "text": [
      "[1, 2, 3, 4, 5, 6, 7, 8, 9, 10, 11, 12, 13, 45]\n"
     ]
    }
   ],
   "source": [
    "uniq_val([25,10,'X',{'x':[1,2,3,45,5],'xy':[4,5,6,7,8,9],'xyz':[10,11,12,13,2,3,4]},15,'XY'])"
   ]
  },
  {
   "cell_type": "code",
   "execution_count": null,
   "id": "def124f0",
   "metadata": {},
   "outputs": [],
   "source": [
    "2. Write a Python program to find the sum of all items in a dictionary?"
   ]
  },
  {
   "cell_type": "code",
   "execution_count": 12,
   "id": "745a183d",
   "metadata": {},
   "outputs": [],
   "source": [
    "def sum_dict(d):\n",
    "    l=[]\n",
    "    for i in d:\n",
    "        if type(i)== dict:\n",
    "            for k in i.keys():\n",
    "                if type(k)== int:\n",
    "                    l.append(k)\n",
    "            for m in i.values():\n",
    "                if type(m)== int:\n",
    "                    l.append(m)\n",
    "            print(sum(l))\n",
    "            "
   ]
  },
  {
   "cell_type": "code",
   "execution_count": 13,
   "id": "bc590b6f",
   "metadata": {},
   "outputs": [
    {
     "name": "stdout",
     "output_type": "stream",
     "text": [
      "162\n"
     ]
    }
   ],
   "source": [
    "sum_dict([21,5,'X',{45:55,'X':50,9:'U',1:2},55])"
   ]
  },
  {
   "cell_type": "code",
   "execution_count": null,
   "id": "1318f330",
   "metadata": {},
   "outputs": [],
   "source": [
    "3. Write a Python program to Merging two Dictionaries?"
   ]
  },
  {
   "cell_type": "code",
   "execution_count": 140,
   "id": "e9221834",
   "metadata": {},
   "outputs": [
    {
     "name": "stdout",
     "output_type": "stream",
     "text": [
      "None\n",
      "{'X': 100, 'Y': 200, 'z': 30, 'x': 10, 'y': 20}\n"
     ]
    }
   ],
   "source": [
    "def merge_dict(d1,d2):\n",
    "    return (d2.update(d1))\n",
    "d1={'x':10,'y':20,'z':30}\n",
    "d2 ={'X':100,'Y':200,'z':300}\n",
    "print(Merge(d1,d2))\n",
    "print(d2)\n",
    "    "
   ]
  },
  {
   "cell_type": "code",
   "execution_count": 136,
   "id": "39f5f17c",
   "metadata": {},
   "outputs": [],
   "source": [
    "merge_dict({'x':10,'y':20,'z':30},{'X':100,'Y':200,'z':300})"
   ]
  },
  {
   "cell_type": "code",
   "execution_count": null,
   "id": "0a72b87d",
   "metadata": {},
   "outputs": [],
   "source": [
    "4. Write a Python program to convert key-values list to flat dictionary?"
   ]
  },
  {
   "cell_type": "code",
   "execution_count": 54,
   "id": "69f78336",
   "metadata": {},
   "outputs": [],
   "source": [
    "def unwrap_dict(d):\n",
    "    l=[]\n",
    "    for i in d:\n",
    "        if type(i)== dict:\n",
    "            for j,k in i.items():\n",
    "                l.append(j)\n",
    "                l.append(k)\n",
    "            return l\n",
    "        "
   ]
  },
  {
   "cell_type": "code",
   "execution_count": 55,
   "id": "b914ae91",
   "metadata": {},
   "outputs": [
    {
     "data": {
      "text/plain": [
       "[4, 10, 'X', 56, 'x', 'y']"
      ]
     },
     "execution_count": 55,
     "metadata": {},
     "output_type": "execute_result"
    }
   ],
   "source": [
    "unwrap_dict([52,45,10,'x',{4:10,'X':56,'x':'y'},100])"
   ]
  },
  {
   "cell_type": "code",
   "execution_count": null,
   "id": "0699e7e5",
   "metadata": {},
   "outputs": [],
   "source": [
    "5. Write a Python program to insertion at the beginning in OrderedDict?"
   ]
  },
  {
   "cell_type": "code",
   "execution_count": 38,
   "id": "e1475c25",
   "metadata": {},
   "outputs": [
    {
     "name": "stdout",
     "output_type": "stream",
     "text": [
      "resultant dict is  :  OrderedDict([('x', '1'), ('X', '5'), ('A', '50')])\n"
     ]
    }
   ],
   "source": [
    "from collections import OrderedDict\n",
    "\n",
    "in_dict = OrderedDict([('X','5'),('A','50')])\n",
    "in_dict.update({'x':'1'})\n",
    "in_dict.move_to_end('x',last = False)\n",
    "print('resultant dict is  : ',(in_dict))\n",
    "    "
   ]
  },
  {
   "cell_type": "code",
   "execution_count": null,
   "id": "d067d4ae",
   "metadata": {},
   "outputs": [],
   "source": [
    "6. Write a Python program to check order of character in string using OrderedDict()?"
   ]
  },
  {
   "cell_type": "code",
   "execution_count": 82,
   "id": "acc365e7",
   "metadata": {},
   "outputs": [],
   "source": [
    "from collections import OrderedDict\n",
    "\n",
    "def check_order(d,pattern):\n",
    "    dict = OrderedDict.fromkeys(d)\n",
    "    count = 0\n",
    "    for m,n in dict.items():\n",
    "        if (m == pattern[count]):\n",
    "            count += 1\n",
    "        if (count == (len(pattern))):\n",
    "            return 'true'\n",
    "    return 'false'\n",
    "            "
   ]
  },
  {
   "cell_type": "code",
   "execution_count": 83,
   "id": "3f45836e",
   "metadata": {},
   "outputs": [
    {
     "data": {
      "text/plain": [
       "'true'"
      ]
     },
     "execution_count": 83,
     "metadata": {},
     "output_type": "execute_result"
    }
   ],
   "source": [
    "check_order('code to check order','or')"
   ]
  },
  {
   "cell_type": "code",
   "execution_count": null,
   "id": "aaeba108",
   "metadata": {},
   "outputs": [],
   "source": [
    "7. Write a Python program to sort Python Dictionaries by Key or Value?"
   ]
  },
  {
   "cell_type": "code",
   "execution_count": 62,
   "id": "5cbcd7bc",
   "metadata": {},
   "outputs": [],
   "source": [
    "def sort_dict(d):\n",
    "    key=[]\n",
    "    value=[]\n",
    "    for i in d:\n",
    "        if type(i)== dict:\n",
    "            for m,n in i.items() :\n",
    "                key.append(m)\n",
    "                value.append(n)\n",
    "            print ('keys :', key ,'Values :', value )"
   ]
  },
  {
   "cell_type": "code",
   "execution_count": 63,
   "id": "f51799f9",
   "metadata": {},
   "outputs": [
    {
     "name": "stdout",
     "output_type": "stream",
     "text": [
      "keys : ['x', 5, 'a'] Values : [10, 50, 'abc']\n"
     ]
    }
   ],
   "source": [
    "sort_dict([20,45,'XY',{'x':10,5:50,'a':'abc'},88,'KM'])"
   ]
  },
  {
   "cell_type": "code",
   "execution_count": null,
   "id": "4c479224",
   "metadata": {},
   "outputs": [],
   "source": []
  }
 ],
 "metadata": {
  "kernelspec": {
   "display_name": "Python 3 (ipykernel)",
   "language": "python",
   "name": "python3"
  },
  "language_info": {
   "codemirror_mode": {
    "name": "ipython",
    "version": 3
   },
   "file_extension": ".py",
   "mimetype": "text/x-python",
   "name": "python",
   "nbconvert_exporter": "python",
   "pygments_lexer": "ipython3",
   "version": "3.9.7"
  }
 },
 "nbformat": 4,
 "nbformat_minor": 5
}
