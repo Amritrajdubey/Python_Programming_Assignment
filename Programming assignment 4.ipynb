{
 "cells": [
  {
   "cell_type": "code",
   "execution_count": null,
   "id": "6f67bbe8",
   "metadata": {},
   "outputs": [],
   "source": [
    "1.\tWrite a Python Program to Find the Factorial of a Number?"
   ]
  },
  {
   "cell_type": "code",
   "execution_count": 7,
   "id": "cfeee1c0",
   "metadata": {},
   "outputs": [
    {
     "name": "stdout",
     "output_type": "stream",
     "text": [
      "Required factorial number  :20\n"
     ]
    }
   ],
   "source": [
    "n=int(input('Required factorial number  :'))\n",
    "l=[]\n",
    "for i in range (1,n+1):\n",
    "    if n%i == 0:\n",
    "        l.append(i)"
   ]
  },
  {
   "cell_type": "code",
   "execution_count": 8,
   "id": "1937893e",
   "metadata": {},
   "outputs": [
    {
     "data": {
      "text/plain": [
       "[1, 2, 4, 5, 10, 20]"
      ]
     },
     "execution_count": 8,
     "metadata": {},
     "output_type": "execute_result"
    }
   ],
   "source": [
    "l"
   ]
  },
  {
   "cell_type": "code",
   "execution_count": null,
   "id": "4047108f",
   "metadata": {},
   "outputs": [],
   "source": [
    "2.\tWrite a Python Program to Display the multiplication Table?"
   ]
  },
  {
   "cell_type": "code",
   "execution_count": 1,
   "id": "795e6f99",
   "metadata": {},
   "outputs": [
    {
     "name": "stdout",
     "output_type": "stream",
     "text": [
      "Number to find the table  :3\n",
      "1  X  3  =  3\n",
      "2  X  3  =  6\n",
      "3  X  3  =  9\n",
      "4  X  3  =  12\n",
      "5  X  3  =  15\n",
      "6  X  3  =  18\n",
      "7  X  3  =  21\n",
      "8  X  3  =  24\n",
      "9  X  3  =  27\n",
      "10  X  3  =  30\n"
     ]
    }
   ],
   "source": [
    "n=int(input('Number to find the table  :'))\n",
    "for i in range(1,11):\n",
    "    print (i ,' X ', n , \" = \", i*n)"
   ]
  },
  {
   "cell_type": "code",
   "execution_count": null,
   "id": "9a8c8478",
   "metadata": {},
   "outputs": [],
   "source": [
    "3.\tWrite a Python Program to Print the Fibonacci sequence?"
   ]
  },
  {
   "cell_type": "code",
   "execution_count": 4,
   "id": "558c8c22",
   "metadata": {},
   "outputs": [],
   "source": [
    "def fibonacci(n):\n",
    "    a=0\n",
    "    b=1\n",
    "    if n < 0:\n",
    "        print('Provide positive integer') \n",
    "    elif n == 0:\n",
    "        return 0\n",
    "    elif n== 1:\n",
    "        return b\n",
    "    else:\n",
    "        for i in range (1,n):\n",
    "            c=a+b\n",
    "            a=b\n",
    "            b=c\n",
    "        return b\n",
    "    "
   ]
  },
  {
   "cell_type": "code",
   "execution_count": 5,
   "id": "1c63d2c2",
   "metadata": {},
   "outputs": [
    {
     "data": {
      "text/plain": [
       "55"
      ]
     },
     "execution_count": 5,
     "metadata": {},
     "output_type": "execute_result"
    }
   ],
   "source": [
    "fibonacci(10)"
   ]
  },
  {
   "cell_type": "code",
   "execution_count": null,
   "id": "d865b0e6",
   "metadata": {},
   "outputs": [],
   "source": [
    "4.\tWrite a Python Program to Check Armstrong Number?"
   ]
  },
  {
   "cell_type": "markdown",
   "id": "911ba5df",
   "metadata": {},
   "source": [
    "unable to stand how to extract armstrong number"
   ]
  },
  {
   "cell_type": "code",
   "execution_count": null,
   "id": "2ae96786",
   "metadata": {},
   "outputs": [],
   "source": [
    "5.\tWrite a Python Program to Find Armstrong Number in an Interval?"
   ]
  },
  {
   "cell_type": "code",
   "execution_count": null,
   "id": "4dfa6803",
   "metadata": {},
   "outputs": [],
   "source": []
  },
  {
   "cell_type": "code",
   "execution_count": null,
   "id": "c9405466",
   "metadata": {},
   "outputs": [],
   "source": [
    "6.\tWrite a Python Program to Find the Sum of Natural Numbers?"
   ]
  },
  {
   "cell_type": "code",
   "execution_count": 22,
   "id": "f9a5e29e",
   "metadata": {},
   "outputs": [],
   "source": [
    "l= lambda *x : sum(x)"
   ]
  },
  {
   "cell_type": "code",
   "execution_count": 23,
   "id": "4b66c30c",
   "metadata": {},
   "outputs": [
    {
     "data": {
      "text/plain": [
       "32"
      ]
     },
     "execution_count": 23,
     "metadata": {},
     "output_type": "execute_result"
    }
   ],
   "source": [
    "l(3,5,6,8,10)"
   ]
  }
 ],
 "metadata": {
  "kernelspec": {
   "display_name": "Python 3 (ipykernel)",
   "language": "python",
   "name": "python3"
  },
  "language_info": {
   "codemirror_mode": {
    "name": "ipython",
    "version": 3
   },
   "file_extension": ".py",
   "mimetype": "text/x-python",
   "name": "python",
   "nbconvert_exporter": "python",
   "pygments_lexer": "ipython3",
   "version": "3.9.7"
  }
 },
 "nbformat": 4,
 "nbformat_minor": 5
}
