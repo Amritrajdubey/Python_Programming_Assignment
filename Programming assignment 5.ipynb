{
 "cells": [
  {
   "cell_type": "code",
   "execution_count": null,
   "id": "669c655a",
   "metadata": {},
   "outputs": [],
   "source": [
    "1.\tWrite a Python Program to Find LCM?"
   ]
  },
  {
   "cell_type": "code",
   "execution_count": 32,
   "id": "b7075322",
   "metadata": {},
   "outputs": [],
   "source": [
    "def lcm_fun(x,y):\n",
    "    if (x<0 or y<0):\n",
    "        print('Provide positive number  : ')\n",
    "    else : \n",
    "        print(x*y/(hcf_fun(x,y)))"
   ]
  },
  {
   "cell_type": "code",
   "execution_count": 36,
   "id": "e2357f8e",
   "metadata": {},
   "outputs": [
    {
     "name": "stdout",
     "output_type": "stream",
     "text": [
      "336.0\n"
     ]
    }
   ],
   "source": [
    "lcm_fun(48,112)"
   ]
  },
  {
   "cell_type": "code",
   "execution_count": null,
   "id": "c95272bb",
   "metadata": {},
   "outputs": [],
   "source": [
    "2.\tWrite a Python Program to Find HCF?"
   ]
  },
  {
   "cell_type": "code",
   "execution_count": 26,
   "id": "c88f4132",
   "metadata": {},
   "outputs": [],
   "source": [
    "def hcf_fun(x,y):\n",
    "    if x< y:\n",
    "        smaller = x\n",
    "    else :\n",
    "        smaller = y\n",
    "    for i in range(1,smaller+1):\n",
    "        if ((x%i==0) and (y%i==0)):\n",
    "            hcf = i\n",
    "    return hcf\n",
    "    "
   ]
  },
  {
   "cell_type": "code",
   "execution_count": 37,
   "id": "68027f10",
   "metadata": {},
   "outputs": [
    {
     "data": {
      "text/plain": [
       "16"
      ]
     },
     "execution_count": 37,
     "metadata": {},
     "output_type": "execute_result"
    }
   ],
   "source": [
    "hcf_fun(48,112)"
   ]
  },
  {
   "cell_type": "code",
   "execution_count": null,
   "id": "7527594c",
   "metadata": {},
   "outputs": [],
   "source": [
    "3.\tWrite a Python Program to Convert Decimal to Binary, Octal and Hexadecimal?"
   ]
  },
  {
   "cell_type": "code",
   "execution_count": 13,
   "id": "86c52db5",
   "metadata": {},
   "outputs": [],
   "source": [
    "def DecimalToBinary(num):\n",
    "    if num>= 1:\n",
    "        DecimalToBinary(num//2)\n",
    "    print (num % 2)"
   ]
  },
  {
   "cell_type": "code",
   "execution_count": 14,
   "id": "07fcb2ee",
   "metadata": {},
   "outputs": [
    {
     "name": "stdout",
     "output_type": "stream",
     "text": [
      "0\n",
      "1\n",
      "0\n",
      "0\n",
      "0\n",
      "0\n",
      "0\n",
      "1\n"
     ]
    }
   ],
   "source": [
    "DecimalToBinary(65)"
   ]
  },
  {
   "cell_type": "code",
   "execution_count": 15,
   "id": "a555822d",
   "metadata": {},
   "outputs": [],
   "source": [
    "def DecimalToOctal(num):\n",
    "    if num>= 1:\n",
    "        DecimalToOctal(num//8)\n",
    "    print (num % 8)"
   ]
  },
  {
   "cell_type": "code",
   "execution_count": 22,
   "id": "40f6e16d",
   "metadata": {},
   "outputs": [
    {
     "name": "stdout",
     "output_type": "stream",
     "text": [
      "0\n",
      "1\n",
      "0\n",
      "1\n"
     ]
    }
   ],
   "source": [
    "DecimalToOctal(65)"
   ]
  },
  {
   "cell_type": "code",
   "execution_count": 18,
   "id": "9bbb6b0e",
   "metadata": {},
   "outputs": [],
   "source": [
    "def DecimalToHexadecimal(num):\n",
    "    if num>= 1:\n",
    "        DecimalToHexadecimal(num//16)\n",
    "    print (num % 16)"
   ]
  },
  {
   "cell_type": "code",
   "execution_count": 20,
   "id": "5128054d",
   "metadata": {},
   "outputs": [
    {
     "name": "stdout",
     "output_type": "stream",
     "text": [
      "0\n",
      "4\n",
      "1\n"
     ]
    }
   ],
   "source": [
    "DecimalToHexadecimal(65)"
   ]
  },
  {
   "cell_type": "code",
   "execution_count": null,
   "id": "8fcbd491",
   "metadata": {},
   "outputs": [],
   "source": [
    "4.\tWrite a Python Program To Find ASCII value of a character?"
   ]
  },
  {
   "cell_type": "code",
   "execution_count": null,
   "id": "265b2234",
   "metadata": {},
   "outputs": [],
   "source": []
  },
  {
   "cell_type": "code",
   "execution_count": null,
   "id": "1d1d6d69",
   "metadata": {},
   "outputs": [],
   "source": [
    "5.\tWrite a Python Program to Make a Simple Calculator with 4 basic mathematical operations?"
   ]
  },
  {
   "cell_type": "code",
   "execution_count": null,
   "id": "091ef36f",
   "metadata": {},
   "outputs": [],
   "source": []
  }
 ],
 "metadata": {
  "kernelspec": {
   "display_name": "Python 3 (ipykernel)",
   "language": "python",
   "name": "python3"
  },
  "language_info": {
   "codemirror_mode": {
    "name": "ipython",
    "version": 3
   },
   "file_extension": ".py",
   "mimetype": "text/x-python",
   "name": "python",
   "nbconvert_exporter": "python",
   "pygments_lexer": "ipython3",
   "version": "3.9.7"
  }
 },
 "nbformat": 4,
 "nbformat_minor": 5
}
