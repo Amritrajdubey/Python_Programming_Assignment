{
 "cells": [
  {
   "cell_type": "code",
   "execution_count": null,
   "id": "c1066198",
   "metadata": {},
   "outputs": [],
   "source": [
    "1. Write a Python Program to find sum of array?"
   ]
  },
  {
   "cell_type": "code",
   "execution_count": 1,
   "id": "93bd0eaf",
   "metadata": {},
   "outputs": [],
   "source": [
    "def sum_array(x):\n",
    "    sum= 0\n",
    "    for i in x:\n",
    "        sum = sum +i\n",
    "    return sum"
   ]
  },
  {
   "cell_type": "code",
   "execution_count": 2,
   "id": "ff8fd837",
   "metadata": {},
   "outputs": [
    {
     "data": {
      "text/plain": [
       "14"
      ]
     },
     "execution_count": 2,
     "metadata": {},
     "output_type": "execute_result"
    }
   ],
   "source": [
    "sum_array([2,3,4,5])"
   ]
  },
  {
   "cell_type": "code",
   "execution_count": null,
   "id": "4a86a9ec",
   "metadata": {},
   "outputs": [],
   "source": [
    "2. Write a Python Program to find largest element in an array?"
   ]
  },
  {
   "cell_type": "code",
   "execution_count": 50,
   "id": "6c599b44",
   "metadata": {},
   "outputs": [],
   "source": [
    "def max_array(a):\n",
    "    max_ar = a[0]\n",
    "    for i in range(len(a)):\n",
    "        if a[i] > max_ar:\n",
    "            max_ar = a[i]\n",
    "    print (max_ar)\n",
    "        "
   ]
  },
  {
   "cell_type": "code",
   "execution_count": 51,
   "id": "8d853803",
   "metadata": {},
   "outputs": [
    {
     "name": "stdout",
     "output_type": "stream",
     "text": [
      "235\n"
     ]
    }
   ],
   "source": [
    "max_array([5,25,75,102,235,185])"
   ]
  },
  {
   "cell_type": "code",
   "execution_count": 31,
   "id": "66c52184",
   "metadata": {},
   "outputs": [
    {
     "name": "stdout",
     "output_type": "stream",
     "text": [
      "1551\n"
     ]
    }
   ],
   "source": [
    "a= [2,54,8,86,10,1551,101,120]\n",
    "print (max(a))"
   ]
  },
  {
   "cell_type": "code",
   "execution_count": null,
   "id": "35a21484",
   "metadata": {},
   "outputs": [],
   "source": [
    "3. Write a Python Program for array rotation?"
   ]
  },
  {
   "cell_type": "code",
   "execution_count": 52,
   "id": "d88c5c1d",
   "metadata": {},
   "outputs": [],
   "source": [
    "def rotate_array(a):\n",
    "    return(a[::-1])"
   ]
  },
  {
   "cell_type": "code",
   "execution_count": 53,
   "id": "8a67a2b7",
   "metadata": {},
   "outputs": [
    {
     "data": {
      "text/plain": [
       "[56, 5, 3, 25, 10, 2]"
      ]
     },
     "execution_count": 53,
     "metadata": {},
     "output_type": "execute_result"
    }
   ],
   "source": [
    "rotate_array([2,10,25,3,5,56])"
   ]
  },
  {
   "cell_type": "code",
   "execution_count": null,
   "id": "cf09f4b8",
   "metadata": {},
   "outputs": [],
   "source": [
    "4. Write a Python Program to Split the array and add the first part to the end?"
   ]
  },
  {
   "cell_type": "code",
   "execution_count": 63,
   "id": "8a2feaad",
   "metadata": {},
   "outputs": [],
   "source": [
    "def split_array(a,i):\n",
    "# i is the index to split part to be added at last      \n",
    "    b =a[:i]\n",
    "    return ( a[i::]+b[::])"
   ]
  },
  {
   "cell_type": "code",
   "execution_count": 89,
   "id": "54465c0c",
   "metadata": {},
   "outputs": [
    {
     "data": {
      "text/plain": [
       "[6.5, 3, 89, 70, 10, 2, 50, 31]"
      ]
     },
     "execution_count": 89,
     "metadata": {},
     "output_type": "execute_result"
    }
   ],
   "source": [
    "split_array([2,50,31,6.5,3,89,70,10],3)"
   ]
  },
  {
   "cell_type": "code",
   "execution_count": null,
   "id": "a425cc4d",
   "metadata": {},
   "outputs": [],
   "source": [
    "5. Write a Python Program to check if given array is Monotonic"
   ]
  },
  {
   "cell_type": "code",
   "execution_count": 90,
   "id": "1af81c19",
   "metadata": {},
   "outputs": [],
   "source": [
    "def Monotonic_array(a):\n",
    "    x ,y =[],[]\n",
    "    x.extend(a)\n",
    "    y.extend(a)\n",
    "    x.sort()\n",
    "    y.sort(reverse = True)\n",
    "    if (x == a or y == a):\n",
    "        return True\n",
    "    return False\n",
    "    print('Is monotonic')\n",
    "    \n",
    "    "
   ]
  },
  {
   "cell_type": "code",
   "execution_count": 91,
   "id": "6337fd50",
   "metadata": {},
   "outputs": [
    {
     "data": {
      "text/plain": [
       "False"
      ]
     },
     "execution_count": 91,
     "metadata": {},
     "output_type": "execute_result"
    }
   ],
   "source": [
    "Monotonic_array([2,6,5,86])"
   ]
  },
  {
   "cell_type": "code",
   "execution_count": null,
   "id": "001b5f7b",
   "metadata": {},
   "outputs": [],
   "source": []
  },
  {
   "cell_type": "code",
   "execution_count": null,
   "id": "f32f9d80",
   "metadata": {},
   "outputs": [],
   "source": []
  }
 ],
 "metadata": {
  "kernelspec": {
   "display_name": "Python 3 (ipykernel)",
   "language": "python",
   "name": "python3"
  },
  "language_info": {
   "codemirror_mode": {
    "name": "ipython",
    "version": 3
   },
   "file_extension": ".py",
   "mimetype": "text/x-python",
   "name": "python",
   "nbconvert_exporter": "python",
   "pygments_lexer": "ipython3",
   "version": "3.9.7"
  }
 },
 "nbformat": 4,
 "nbformat_minor": 5
}
