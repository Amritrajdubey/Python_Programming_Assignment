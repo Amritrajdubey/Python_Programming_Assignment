{
 "cells": [
  {
   "cell_type": "markdown",
   "id": "2315f5e4",
   "metadata": {},
   "source": [
    "Question1\n",
    "Create a function that takes a string and returns a string in which each character is repeated once.\n",
    "Examples\n",
    "double_char('String') ➞ 'SSttrriinngg';\n",
    "double_char('Hello World!') ➞ 'HHeelllloo WWoorrlldd!!'\n",
    "double_char('1234!_ ') ➞ '11223344!!__ '"
   ]
  },
  {
   "cell_type": "code",
   "execution_count": 16,
   "id": "0968eb3c",
   "metadata": {},
   "outputs": [],
   "source": [
    "def double_char(x):\n",
    "    result =''\n",
    "    for i in x:\n",
    "        result += i*2\n",
    "    return result"
   ]
  },
  {
   "cell_type": "code",
   "execution_count": 18,
   "id": "d91120a1",
   "metadata": {},
   "outputs": [
    {
     "data": {
      "text/plain": [
       "'SSttrriinngg'"
      ]
     },
     "execution_count": 18,
     "metadata": {},
     "output_type": "execute_result"
    }
   ],
   "source": [
    "double_char('String')"
   ]
  },
  {
   "cell_type": "markdown",
   "id": "d6e5ffa4",
   "metadata": {},
   "source": [
    "Question2\n",
    "Create a function that reverses a boolean value and returns the string 'boolean expected' if another variable type is given.\n",
    "Examples\n",
    "reverse(True) ➞ False\n",
    "reverse(False) ➞ True\n",
    "reverse(0) ➞ 'boolean expected'\n",
    "reverse(None) ➞ 'boolean expected'"
   ]
  },
  {
   "cell_type": "code",
   "execution_count": 19,
   "id": "10abf210",
   "metadata": {},
   "outputs": [],
   "source": [
    "def reverse(char):\n",
    "    if char == 'True':\n",
    "        print('False')\n",
    "    elif char == 'False':\n",
    "        print('True')\n",
    "    else:\n",
    "        print('boolean expected')"
   ]
  },
  {
   "cell_type": "code",
   "execution_count": 20,
   "id": "047bedab",
   "metadata": {},
   "outputs": [
    {
     "name": "stdout",
     "output_type": "stream",
     "text": [
      "boolean expected\n"
     ]
    }
   ],
   "source": [
    "reverse(None)"
   ]
  },
  {
   "cell_type": "markdown",
   "id": "1e35955c",
   "metadata": {},
   "source": [
    "Question3\n",
    "Create a function that returns the thickness (in meters) of a piece of paper after folding it n number of times. The paper starts off with a thickness of 0.5mm.\n",
    "Examples\n",
    "num_layers(1) ➞ '0.001m'\n",
    " Paper folded once is 1mm (equal to 0.001m)\n",
    "num_layers(4) ➞ '0.008m'\n",
    " Paper folded 4 times is 8mm (equal to 0.008m)\n",
    "num_layers(21) ➞ '1048.576m'\n",
    " Paper folded 21 times is 1048576mm (equal to 1048.576m)"
   ]
  },
  {
   "cell_type": "code",
   "execution_count": 27,
   "id": "d703dc00",
   "metadata": {},
   "outputs": [],
   "source": [
    "def num_layers(n):\n",
    "    thickness = 0.5\n",
    "    for i in range(n):\n",
    "        thickness *= 2\n",
    "    return '{:.3f}m'.format(thickness/1000)"
   ]
  },
  {
   "cell_type": "code",
   "execution_count": 33,
   "id": "83dd6e85",
   "metadata": {},
   "outputs": [
    {
     "data": {
      "text/plain": [
       "'0.512m'"
      ]
     },
     "execution_count": 33,
     "metadata": {},
     "output_type": "execute_result"
    }
   ],
   "source": [
    "num_layers(10)"
   ]
  },
  {
   "cell_type": "markdown",
   "id": "7b8b601a",
   "metadata": {},
   "source": [
    "Question4\n",
    "\n",
    "Create a function that takes a single string as argument and returns an ordered list containing\n",
    "the indices of all capital letters in the string.\n",
    "Examples\n",
    "index_of_caps('eDaBiT') ➞ [1, 3, 5]\n",
    "index_of_caps('eQuINoX') ➞ [1, 3, 4, 6]\n",
    "index_of_caps('determine') ➞ []\n",
    "index_of_caps('STRIKE') ➞ [0, 1, 2, 3, 4, 5]\n",
    "index_of_caps('sUn') ➞ [1]"
   ]
  },
  {
   "cell_type": "code",
   "execution_count": 50,
   "id": "34ae2485",
   "metadata": {},
   "outputs": [],
   "source": [
    "def index_of_caps(char):    \n",
    "    l=[]\n",
    "    for i in range(len(char)):\n",
    "        if char[i] == char[i].upper():\n",
    "            l.append(i)\n",
    "    print(l)"
   ]
  },
  {
   "cell_type": "code",
   "execution_count": 52,
   "id": "fc976071",
   "metadata": {},
   "outputs": [
    {
     "name": "stdout",
     "output_type": "stream",
     "text": [
      "[1, 3, 4, 6]\n"
     ]
    }
   ],
   "source": [
    "index_of_caps('eQuINoX')"
   ]
  },
  {
   "cell_type": "markdown",
   "id": "e32b0a82",
   "metadata": {},
   "source": [
    "Question5\n",
    "Using list comprehensions, create a function that finds all even numbers from 1 to the given\n",
    "number.\n",
    "Examples\n",
    "find_even_nums(8) ➞ [2, 4, 6, 8]\n",
    "find_even_nums(4) ➞ [2, 4]\n",
    "find_even_nums(2) ➞ [2]"
   ]
  },
  {
   "cell_type": "code",
   "execution_count": 57,
   "id": "99882f51",
   "metadata": {},
   "outputs": [],
   "source": [
    "def find_even_nums(n):\n",
    "    l=[]\n",
    "    for i in range(1,n+1):\n",
    "        if i%2 == 0:\n",
    "            l.append(i)\n",
    "    print(l)"
   ]
  },
  {
   "cell_type": "code",
   "execution_count": 58,
   "id": "03fa6b84",
   "metadata": {},
   "outputs": [
    {
     "name": "stdout",
     "output_type": "stream",
     "text": [
      "[2, 4, 6, 8]\n"
     ]
    }
   ],
   "source": [
    "find_even_nums(8)"
   ]
  },
  {
   "cell_type": "code",
   "execution_count": null,
   "id": "9f09264e",
   "metadata": {},
   "outputs": [],
   "source": []
  }
 ],
 "metadata": {
  "kernelspec": {
   "display_name": "Python 3 (ipykernel)",
   "language": "python",
   "name": "python3"
  },
  "language_info": {
   "codemirror_mode": {
    "name": "ipython",
    "version": 3
   },
   "file_extension": ".py",
   "mimetype": "text/x-python",
   "name": "python",
   "nbconvert_exporter": "python",
   "pygments_lexer": "ipython3",
   "version": "3.9.13"
  }
 },
 "nbformat": 4,
 "nbformat_minor": 5
}
